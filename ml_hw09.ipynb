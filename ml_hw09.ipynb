{
 "cells": [
  {
   "cell_type": "code",
   "execution_count": 1,
   "metadata": {
    "id": "y3DiadTG-ru-"
   },
   "outputs": [],
   "source": [
    "import pandas as pd\n",
    "import numpy as np\n",
    "from matplotlib import pyplot as plt"
   ]
  },
  {
   "cell_type": "markdown",
   "metadata": {
    "id": "-QpBS-Nd-fAO"
   },
   "source": [
    "# Работа с деревьями решений и ансамблированием"
   ]
  },
  {
   "cell_type": "markdown",
   "metadata": {
    "id": "1ZVCYFgU-5Tw"
   },
   "source": [
    "В этой работе вам предстоит научиться предсказывать цены товаров из маркетплейса Amazon."
   ]
  },
  {
   "cell_type": "markdown",
   "metadata": {
    "id": "JyTAlXb8CbXk"
   },
   "source": [
    "# Загрузка и подготовка данных"
   ]
  },
  {
   "cell_type": "code",
   "execution_count": 2,
   "metadata": {
    "id": "_Bfhk7qNskSS"
   },
   "outputs": [
    {
     "name": "stderr",
     "output_type": "stream",
     "text": [
      "Downloading...\n",
      "From: https://drive.google.com/uc?id=18PVwZWFbpRbEHW-Hc8R0DUTl9CF1aQa0\n",
      "To: C:\\Users\\sav4u\\3D Objects\\тинька\\data.csv\n",
      "\n",
      "  0%|          | 0.00/30.0M [00:00<?, ?B/s]\n",
      "  2%|1         | 524k/30.0M [00:00<00:17, 1.73MB/s]\n",
      "  3%|3         | 1.05M/30.0M [00:00<00:11, 2.61MB/s]\n",
      "  5%|5         | 1.57M/30.0M [00:00<00:09, 3.15MB/s]\n",
      "  7%|6         | 2.10M/30.0M [00:00<00:09, 2.89MB/s]\n",
      " 10%|#         | 3.15M/30.0M [00:00<00:05, 4.51MB/s]\n",
      " 14%|#3        | 4.19M/30.0M [00:01<00:06, 3.84MB/s]\n",
      " 17%|#7        | 5.24M/30.0M [00:01<00:05, 4.19MB/s]\n",
      " 19%|#9        | 5.77M/30.0M [00:01<00:06, 3.78MB/s]\n",
      " 23%|##2       | 6.82M/30.0M [00:01<00:05, 4.55MB/s]\n",
      " 24%|##4       | 7.34M/30.0M [00:01<00:05, 4.40MB/s]\n",
      " 26%|##6       | 7.86M/30.0M [00:02<00:05, 4.39MB/s]\n",
      " 28%|##7       | 8.39M/30.0M [00:02<00:05, 4.18MB/s]\n",
      " 30%|##9       | 8.91M/30.0M [00:02<00:05, 4.14MB/s]\n",
      " 31%|###1      | 9.44M/30.0M [00:02<00:04, 4.13MB/s]\n",
      " 33%|###3      | 9.96M/30.0M [00:02<00:04, 4.06MB/s]\n",
      " 35%|###4      | 10.5M/30.0M [00:02<00:04, 4.29MB/s]\n",
      " 38%|###8      | 11.5M/30.0M [00:02<00:04, 4.50MB/s]\n",
      " 40%|####      | 12.1M/30.0M [00:02<00:03, 4.51MB/s]\n",
      " 42%|####1     | 12.6M/30.0M [00:03<00:04, 4.25MB/s]\n",
      " 44%|####3     | 13.1M/30.0M [00:03<00:07, 2.36MB/s]\n",
      " 47%|####7     | 14.2M/30.0M [00:03<00:04, 3.43MB/s]\n",
      " 49%|####8     | 14.7M/30.0M [00:03<00:04, 3.50MB/s]\n",
      " 52%|#####2    | 15.7M/30.0M [00:04<00:03, 4.16MB/s]\n",
      " 54%|#####4    | 16.3M/30.0M [00:04<00:03, 4.09MB/s]\n",
      " 56%|#####5    | 16.8M/30.0M [00:04<00:03, 4.32MB/s]\n",
      " 58%|#####7    | 17.3M/30.0M [00:04<00:02, 4.49MB/s]\n",
      " 61%|######1   | 18.4M/30.0M [00:04<00:02, 4.60MB/s]\n",
      " 63%|######2   | 18.9M/30.0M [00:04<00:02, 4.65MB/s]\n",
      " 65%|######4   | 19.4M/30.0M [00:04<00:02, 4.13MB/s]\n",
      " 68%|######8   | 20.4M/30.0M [00:05<00:02, 4.50MB/s]\n",
      " 70%|######9   | 21.0M/30.0M [00:05<00:02, 3.19MB/s]\n",
      " 72%|#######1  | 21.5M/30.0M [00:05<00:02, 3.44MB/s]\n",
      " 73%|#######3  | 22.0M/30.0M [00:05<00:02, 3.65MB/s]\n",
      " 75%|#######5  | 22.5M/30.0M [00:05<00:01, 3.89MB/s]\n",
      " 77%|#######6  | 23.1M/30.0M [00:05<00:01, 3.99MB/s]\n",
      " 79%|#######8  | 23.6M/30.0M [00:06<00:01, 4.11MB/s]\n",
      " 82%|########2 | 24.6M/30.0M [00:06<00:01, 4.43MB/s]\n",
      " 84%|########3 | 25.2M/30.0M [00:06<00:01, 4.56MB/s]\n",
      " 86%|########5 | 25.7M/30.0M [00:06<00:00, 4.47MB/s]\n",
      " 87%|########7 | 26.2M/30.0M [00:06<00:00, 4.63MB/s]\n",
      " 91%|######### | 27.3M/30.0M [00:06<00:00, 4.78MB/s]\n",
      " 94%|#########4| 28.3M/30.0M [00:06<00:00, 4.97MB/s]\n",
      " 96%|#########6| 28.8M/30.0M [00:07<00:00, 4.70MB/s]\n",
      " 98%|#########7| 29.4M/30.0M [00:07<00:00, 3.73MB/s]\n",
      "100%|#########9| 29.9M/30.0M [00:07<00:00, 3.42MB/s]\n",
      "100%|##########| 30.0M/30.0M [00:07<00:00, 3.98MB/s]\n"
     ]
    }
   ],
   "source": [
    "!gdown 18PVwZWFbpRbEHW-Hc8R0DUTl9CF1aQa0 -O data.csv"
   ]
  },
  {
   "cell_type": "code",
   "execution_count": 3,
   "metadata": {
    "id": "XFUHeIu3vcWD"
   },
   "outputs": [],
   "source": [
    "df = pd.read_csv('data.csv').drop(columns=[\n",
    "    'product_name',\n",
    "    'index',\n",
    "    'uniq_id',\n",
    "    'customers_who_bought_this_item_also_bought',\n",
    "    'items_customers_buy_after_viewing_this_item',\n",
    "    'sellers',\n",
    "    'description', # text\n",
    "    'product_information', # text\n",
    "    'product_description', # text\n",
    "    'customer_questions_and_answers', # text\n",
    "    'customer_reviews', # text\n",
    "])"
   ]
  },
  {
   "cell_type": "code",
   "execution_count": 4,
   "metadata": {
    "id": "Q5_j0kenwogy"
   },
   "outputs": [
    {
     "data": {
      "text/plain": [
       "Index(['manufacturer', 'price', 'number_available_in_stock',\n",
       "       'number_of_reviews', 'number_of_answered_questions',\n",
       "       'average_review_rating', 'amazon_category_and_sub_category'],\n",
       "      dtype='object')"
      ]
     },
     "execution_count": 4,
     "metadata": {},
     "output_type": "execute_result"
    }
   ],
   "source": [
    "df.columns"
   ]
  },
  {
   "cell_type": "code",
   "execution_count": 5,
   "metadata": {
    "id": "Htzwn5h9wjri"
   },
   "outputs": [],
   "source": [
    "X, y = df.drop(columns=['price']), df.price"
   ]
  },
  {
   "cell_type": "markdown",
   "metadata": {
    "id": "O59k78A8C_yP"
   },
   "source": [
    "## Очистка данных (1 балл)\n",
    "\n",
    "Посмотрите на признаки. Есть ли в них пропуски? Какое соотношение между NaN'ами и общим количеством данных? Есть ли смысл выкидывать какие-либо данные из этого датасета?"
   ]
  },
  {
   "cell_type": "code",
   "execution_count": 6,
   "metadata": {
    "id": "hz7l2Z6mDcBi"
   },
   "outputs": [
    {
     "data": {
      "text/plain": [
       "(8547, 7)"
      ]
     },
     "execution_count": 6,
     "metadata": {},
     "output_type": "execute_result"
    }
   ],
   "source": [
    "df.shape"
   ]
  },
  {
   "cell_type": "markdown",
   "metadata": {},
   "source": [
    "Колонки с пропусками"
   ]
  },
  {
   "cell_type": "code",
   "execution_count": 7,
   "metadata": {},
   "outputs": [
    {
     "data": {
      "text/plain": [
       "manufacturer                         True\n",
       "price                               False\n",
       "number_available_in_stock            True\n",
       "number_of_reviews                    True\n",
       "number_of_answered_questions         True\n",
       "average_review_rating                True\n",
       "amazon_category_and_sub_category     True\n",
       "dtype: bool"
      ]
     },
     "execution_count": 7,
     "metadata": {},
     "output_type": "execute_result"
    }
   ],
   "source": [
    "df.isna().any()"
   ]
  },
  {
   "cell_type": "markdown",
   "metadata": {},
   "source": [
    "соотношение между NaN'ами и общим количеством данных"
   ]
  },
  {
   "cell_type": "code",
   "execution_count": 8,
   "metadata": {},
   "outputs": [
    {
     "data": {
      "text/plain": [
       "manufacturer                        0.000585\n",
       "price                               0.000000\n",
       "number_available_in_stock           0.258687\n",
       "number_of_reviews                   0.001755\n",
       "number_of_answered_questions        0.078741\n",
       "average_review_rating               0.001755\n",
       "amazon_category_and_sub_category    0.064350\n",
       "dtype: float64"
      ]
     },
     "execution_count": 8,
     "metadata": {},
     "output_type": "execute_result"
    }
   ],
   "source": [
    "df.isna().sum() / df.shape[0]"
   ]
  },
  {
   "cell_type": "code",
   "execution_count": 9,
   "metadata": {},
   "outputs": [
    {
     "data": {
      "text/plain": [
       "manufacturer                           5\n",
       "price                                  0\n",
       "number_available_in_stock           2211\n",
       "number_of_reviews                     15\n",
       "number_of_answered_questions         673\n",
       "average_review_rating                 15\n",
       "amazon_category_and_sub_category     550\n",
       "dtype: int64"
      ]
     },
     "execution_count": 9,
     "metadata": {},
     "output_type": "execute_result"
    }
   ],
   "source": [
    "df.isna().sum()"
   ]
  },
  {
   "cell_type": "markdown",
   "metadata": {},
   "source": [
    "выкинем из датафрейма те индексы, в которых NaN больше 2"
   ]
  },
  {
   "cell_type": "code",
   "execution_count": 10,
   "metadata": {},
   "outputs": [],
   "source": [
    "df = df.drop(index=df[df.isna().sum(axis=1) > 2].index)"
   ]
  },
  {
   "cell_type": "code",
   "execution_count": 11,
   "metadata": {},
   "outputs": [
    {
     "data": {
      "text/plain": [
       "(8533, 7)"
      ]
     },
     "execution_count": 11,
     "metadata": {},
     "output_type": "execute_result"
    }
   ],
   "source": [
    "df.shape"
   ]
  },
  {
   "cell_type": "code",
   "execution_count": 12,
   "metadata": {},
   "outputs": [
    {
     "data": {
      "text/plain": [
       "manufacturer                           4\n",
       "price                                  0\n",
       "number_available_in_stock           2201\n",
       "number_of_reviews                     10\n",
       "number_of_answered_questions         665\n",
       "average_review_rating                 10\n",
       "amazon_category_and_sub_category     536\n",
       "dtype: int64"
      ]
     },
     "execution_count": 12,
     "metadata": {},
     "output_type": "execute_result"
    }
   ],
   "source": [
    "df.isna().sum()"
   ]
  },
  {
   "cell_type": "code",
   "execution_count": 13,
   "metadata": {},
   "outputs": [
    {
     "data": {
      "text/html": [
       "<div>\n",
       "<style scoped>\n",
       "    .dataframe tbody tr th:only-of-type {\n",
       "        vertical-align: middle;\n",
       "    }\n",
       "\n",
       "    .dataframe tbody tr th {\n",
       "        vertical-align: top;\n",
       "    }\n",
       "\n",
       "    .dataframe thead th {\n",
       "        text-align: right;\n",
       "    }\n",
       "</style>\n",
       "<table border=\"1\" class=\"dataframe\">\n",
       "  <thead>\n",
       "    <tr style=\"text-align: right;\">\n",
       "      <th></th>\n",
       "      <th>manufacturer</th>\n",
       "      <th>price</th>\n",
       "      <th>number_available_in_stock</th>\n",
       "      <th>number_of_reviews</th>\n",
       "      <th>number_of_answered_questions</th>\n",
       "      <th>average_review_rating</th>\n",
       "      <th>amazon_category_and_sub_category</th>\n",
       "    </tr>\n",
       "  </thead>\n",
       "  <tbody>\n",
       "    <tr>\n",
       "      <th>0</th>\n",
       "      <td>Hornby</td>\n",
       "      <td>£3.42</td>\n",
       "      <td>5 new</td>\n",
       "      <td>15</td>\n",
       "      <td>1.0</td>\n",
       "      <td>4.9 out of 5 stars</td>\n",
       "      <td>Hobbies &gt; Model Trains &amp; Railway Sets &gt; Rail V...</td>\n",
       "    </tr>\n",
       "    <tr>\n",
       "      <th>1</th>\n",
       "      <td>FunkyBuys</td>\n",
       "      <td>£16.99</td>\n",
       "      <td>NaN</td>\n",
       "      <td>2</td>\n",
       "      <td>1.0</td>\n",
       "      <td>4.5 out of 5 stars</td>\n",
       "      <td>Hobbies &gt; Model Trains &amp; Railway Sets &gt; Rail V...</td>\n",
       "    </tr>\n",
       "    <tr>\n",
       "      <th>2</th>\n",
       "      <td>ccf</td>\n",
       "      <td>£9.99</td>\n",
       "      <td>2 new</td>\n",
       "      <td>17</td>\n",
       "      <td>2.0</td>\n",
       "      <td>3.9 out of 5 stars</td>\n",
       "      <td>Hobbies &gt; Model Trains &amp; Railway Sets &gt; Rail V...</td>\n",
       "    </tr>\n",
       "    <tr>\n",
       "      <th>3</th>\n",
       "      <td>Hornby</td>\n",
       "      <td>£39.99</td>\n",
       "      <td>NaN</td>\n",
       "      <td>1</td>\n",
       "      <td>2.0</td>\n",
       "      <td>5.0 out of 5 stars</td>\n",
       "      <td>Hobbies &gt; Model Trains &amp; Railway Sets &gt; Rail V...</td>\n",
       "    </tr>\n",
       "    <tr>\n",
       "      <th>4</th>\n",
       "      <td>Hornby</td>\n",
       "      <td>£32.19</td>\n",
       "      <td>NaN</td>\n",
       "      <td>3</td>\n",
       "      <td>2.0</td>\n",
       "      <td>4.7 out of 5 stars</td>\n",
       "      <td>Hobbies &gt; Model Trains &amp; Railway Sets &gt; Rail V...</td>\n",
       "    </tr>\n",
       "    <tr>\n",
       "      <th>...</th>\n",
       "      <td>...</td>\n",
       "      <td>...</td>\n",
       "      <td>...</td>\n",
       "      <td>...</td>\n",
       "      <td>...</td>\n",
       "      <td>...</td>\n",
       "      <td>...</td>\n",
       "    </tr>\n",
       "    <tr>\n",
       "      <th>8542</th>\n",
       "      <td>Mattel</td>\n",
       "      <td>£22.95</td>\n",
       "      <td>5 new</td>\n",
       "      <td>3</td>\n",
       "      <td>3.0</td>\n",
       "      <td>5.0 out of 5 stars</td>\n",
       "      <td>Hobbies &gt; Collectible Figures &amp; Memorabilia &gt; ...</td>\n",
       "    </tr>\n",
       "    <tr>\n",
       "      <th>8543</th>\n",
       "      <td>Star Wars</td>\n",
       "      <td>£39.99</td>\n",
       "      <td>NaN</td>\n",
       "      <td>1</td>\n",
       "      <td>3.0</td>\n",
       "      <td>4.0 out of 5 stars</td>\n",
       "      <td>Characters &amp; Brands &gt; Star Wars &gt; Toys</td>\n",
       "    </tr>\n",
       "    <tr>\n",
       "      <th>8544</th>\n",
       "      <td>Olde Scotland Yard Ltd.</td>\n",
       "      <td>£43.99</td>\n",
       "      <td>3 new</td>\n",
       "      <td>1</td>\n",
       "      <td>3.0</td>\n",
       "      <td>5.0 out of 5 stars</td>\n",
       "      <td>Novelty &amp; Special Use &gt; Novelty &gt; Accessories ...</td>\n",
       "    </tr>\n",
       "    <tr>\n",
       "      <th>8545</th>\n",
       "      <td>DC Comics</td>\n",
       "      <td>£49.81</td>\n",
       "      <td>3 new</td>\n",
       "      <td>1</td>\n",
       "      <td>3.0</td>\n",
       "      <td>5.0 out of 5 stars</td>\n",
       "      <td>Hobbies &gt; Collectible Figures &amp; Memorabilia &gt; ...</td>\n",
       "    </tr>\n",
       "    <tr>\n",
       "      <th>8546</th>\n",
       "      <td>Bandai</td>\n",
       "      <td>£21.20</td>\n",
       "      <td>31 new</td>\n",
       "      <td>11</td>\n",
       "      <td>3.0</td>\n",
       "      <td>4.5 out of 5 stars</td>\n",
       "      <td>Characters &amp; Brands &gt; Star Wars &gt; Toys</td>\n",
       "    </tr>\n",
       "  </tbody>\n",
       "</table>\n",
       "<p>8533 rows × 7 columns</p>\n",
       "</div>"
      ],
      "text/plain": [
       "                 manufacturer   price number_available_in_stock  \\\n",
       "0                      Hornby   £3.42                     5 new   \n",
       "1                   FunkyBuys  £16.99                       NaN   \n",
       "2                         ccf   £9.99                     2 new   \n",
       "3                      Hornby  £39.99                       NaN   \n",
       "4                      Hornby  £32.19                       NaN   \n",
       "...                       ...     ...                       ...   \n",
       "8542                   Mattel  £22.95                     5 new   \n",
       "8543                Star Wars  £39.99                       NaN   \n",
       "8544  Olde Scotland Yard Ltd.  £43.99                     3 new   \n",
       "8545                DC Comics  £49.81                     3 new   \n",
       "8546                   Bandai  £21.20                    31 new   \n",
       "\n",
       "     number_of_reviews  number_of_answered_questions average_review_rating  \\\n",
       "0                   15                           1.0    4.9 out of 5 stars   \n",
       "1                    2                           1.0    4.5 out of 5 stars   \n",
       "2                   17                           2.0    3.9 out of 5 stars   \n",
       "3                    1                           2.0    5.0 out of 5 stars   \n",
       "4                    3                           2.0    4.7 out of 5 stars   \n",
       "...                ...                           ...                   ...   \n",
       "8542                 3                           3.0    5.0 out of 5 stars   \n",
       "8543                 1                           3.0    4.0 out of 5 stars   \n",
       "8544                 1                           3.0    5.0 out of 5 stars   \n",
       "8545                 1                           3.0    5.0 out of 5 stars   \n",
       "8546                11                           3.0    4.5 out of 5 stars   \n",
       "\n",
       "                       amazon_category_and_sub_category  \n",
       "0     Hobbies > Model Trains & Railway Sets > Rail V...  \n",
       "1     Hobbies > Model Trains & Railway Sets > Rail V...  \n",
       "2     Hobbies > Model Trains & Railway Sets > Rail V...  \n",
       "3     Hobbies > Model Trains & Railway Sets > Rail V...  \n",
       "4     Hobbies > Model Trains & Railway Sets > Rail V...  \n",
       "...                                                 ...  \n",
       "8542  Hobbies > Collectible Figures & Memorabilia > ...  \n",
       "8543             Characters & Brands > Star Wars > Toys  \n",
       "8544  Novelty & Special Use > Novelty > Accessories ...  \n",
       "8545  Hobbies > Collectible Figures & Memorabilia > ...  \n",
       "8546             Characters & Brands > Star Wars > Toys  \n",
       "\n",
       "[8533 rows x 7 columns]"
      ]
     },
     "execution_count": 13,
     "metadata": {},
     "output_type": "execute_result"
    }
   ],
   "source": [
    "df"
   ]
  },
  {
   "cell_type": "code",
   "execution_count": 14,
   "metadata": {
    "id": "WzqugrVoE4lE"
   },
   "outputs": [],
   "source": [
    "from sklearn.model_selection import train_test_split\n",
    "X, y = df.drop(columns=['price']), df.price\n",
    "X_train, X_test, y_train, y_test = train_test_split(X, y, train_size=0.65, random_state=42)"
   ]
  },
  {
   "cell_type": "markdown",
   "metadata": {
    "id": "eH688KdZDdKY"
   },
   "source": [
    "## Подготовка данных \n"
   ]
  },
  {
   "cell_type": "code",
   "execution_count": 15,
   "metadata": {
    "id": "IVNne3QKERCk"
   },
   "outputs": [
    {
     "name": "stdout",
     "output_type": "stream",
     "text": [
      "<class 'pandas.core.frame.DataFrame'>\n",
      "Int64Index: 8533 entries, 0 to 8546\n",
      "Data columns (total 7 columns):\n",
      " #   Column                            Non-Null Count  Dtype  \n",
      "---  ------                            --------------  -----  \n",
      " 0   manufacturer                      8529 non-null   object \n",
      " 1   price                             8533 non-null   object \n",
      " 2   number_available_in_stock         6332 non-null   object \n",
      " 3   number_of_reviews                 8523 non-null   object \n",
      " 4   number_of_answered_questions      7868 non-null   float64\n",
      " 5   average_review_rating             8523 non-null   object \n",
      " 6   amazon_category_and_sub_category  7997 non-null   object \n",
      "dtypes: float64(1), object(6)\n",
      "memory usage: 533.3+ KB\n"
     ]
    }
   ],
   "source": [
    "df.info()"
   ]
  },
  {
   "cell_type": "markdown",
   "metadata": {},
   "source": [
    "Видно, что есть колонка вещественного типа данных, заменим ее элементы None на среднее"
   ]
  },
  {
   "cell_type": "code",
   "execution_count": 16,
   "metadata": {},
   "outputs": [
    {
     "data": {
      "text/plain": [
       "1.8744851931751323"
      ]
     },
     "execution_count": 16,
     "metadata": {},
     "output_type": "execute_result"
    }
   ],
   "source": [
    "sr = X_train.number_of_answered_questions.mean(numeric_only=True)\n",
    "sr"
   ]
  },
  {
   "cell_type": "code",
   "execution_count": 17,
   "metadata": {},
   "outputs": [],
   "source": [
    "X_train.number_of_answered_questions.fillna(value=sr, inplace=True)\n",
    "X_test.number_of_answered_questions.fillna(value=sr, inplace=True)"
   ]
  },
  {
   "cell_type": "code",
   "execution_count": 18,
   "metadata": {},
   "outputs": [
    {
     "name": "stdout",
     "output_type": "stream",
     "text": [
      "Кол-во None train в number_of_answered_questions = 0\n",
      "Кол-во None test в number_of_answered_questions = 0\n"
     ]
    }
   ],
   "source": [
    "print(\"Кол-во None train в number_of_answered_questions =\", X_train.number_of_answered_questions.isna().sum())\n",
    "print(\"Кол-во None test в number_of_answered_questions =\", X_test.number_of_answered_questions.isna().sum())"
   ]
  },
  {
   "cell_type": "markdown",
   "metadata": {},
   "source": [
    "Теперь займемся категориальными признаками"
   ]
  },
  {
   "cell_type": "code",
   "execution_count": 19,
   "metadata": {},
   "outputs": [
    {
     "data": {
      "text/html": [
       "<div>\n",
       "<style scoped>\n",
       "    .dataframe tbody tr th:only-of-type {\n",
       "        vertical-align: middle;\n",
       "    }\n",
       "\n",
       "    .dataframe tbody tr th {\n",
       "        vertical-align: top;\n",
       "    }\n",
       "\n",
       "    .dataframe thead th {\n",
       "        text-align: right;\n",
       "    }\n",
       "</style>\n",
       "<table border=\"1\" class=\"dataframe\">\n",
       "  <thead>\n",
       "    <tr style=\"text-align: right;\">\n",
       "      <th></th>\n",
       "      <th>manufacturer</th>\n",
       "      <th>number_available_in_stock</th>\n",
       "      <th>number_of_reviews</th>\n",
       "      <th>number_of_answered_questions</th>\n",
       "      <th>average_review_rating</th>\n",
       "      <th>amazon_category_and_sub_category</th>\n",
       "    </tr>\n",
       "  </thead>\n",
       "  <tbody>\n",
       "    <tr>\n",
       "      <th>4396</th>\n",
       "      <td>Paw Patrol</td>\n",
       "      <td>3 new</td>\n",
       "      <td>8</td>\n",
       "      <td>2.0</td>\n",
       "      <td>4.6 out of 5 stars</td>\n",
       "      <td>Party Supplies &gt; Banners, Stickers &amp; Confetti ...</td>\n",
       "    </tr>\n",
       "    <tr>\n",
       "      <th>6858</th>\n",
       "      <td>Personalised Bears and Rag Dolls</td>\n",
       "      <td>NaN</td>\n",
       "      <td>3</td>\n",
       "      <td>1.0</td>\n",
       "      <td>5.0 out of 5 stars</td>\n",
       "      <td>Dolls &amp; Accessories &gt; Soft Dolls</td>\n",
       "    </tr>\n",
       "    <tr>\n",
       "      <th>6535</th>\n",
       "      <td>Oxford Diecast</td>\n",
       "      <td>2 new</td>\n",
       "      <td>1</td>\n",
       "      <td>1.0</td>\n",
       "      <td>5.0 out of 5 stars</td>\n",
       "      <td>Die-Cast &amp; Toy Vehicles &gt; Toy Vehicles &amp; Acces...</td>\n",
       "    </tr>\n",
       "    <tr>\n",
       "      <th>3323</th>\n",
       "      <td>Blue Frog Toys</td>\n",
       "      <td>NaN</td>\n",
       "      <td>1</td>\n",
       "      <td>2.0</td>\n",
       "      <td>5.0 out of 5 stars</td>\n",
       "      <td>Fancy Dress &gt; Accessories &gt; Masks</td>\n",
       "    </tr>\n",
       "    <tr>\n",
       "      <th>91</th>\n",
       "      <td>Preiser</td>\n",
       "      <td>NaN</td>\n",
       "      <td>1</td>\n",
       "      <td>1.0</td>\n",
       "      <td>5.0 out of 5 stars</td>\n",
       "      <td>Hobbies &gt; Model Trains &amp; Railway Sets &gt; Rail V...</td>\n",
       "    </tr>\n",
       "    <tr>\n",
       "      <th>...</th>\n",
       "      <td>...</td>\n",
       "      <td>...</td>\n",
       "      <td>...</td>\n",
       "      <td>...</td>\n",
       "      <td>...</td>\n",
       "      <td>...</td>\n",
       "    </tr>\n",
       "    <tr>\n",
       "      <th>5993</th>\n",
       "      <td>DC</td>\n",
       "      <td>2 new</td>\n",
       "      <td>1</td>\n",
       "      <td>1.0</td>\n",
       "      <td>5.0 out of 5 stars</td>\n",
       "      <td>Figures &amp; Playsets &gt; Science Fiction &amp; Fantasy</td>\n",
       "    </tr>\n",
       "    <tr>\n",
       "      <th>5129</th>\n",
       "      <td>Ebbro</td>\n",
       "      <td>9 new</td>\n",
       "      <td>1</td>\n",
       "      <td>1.0</td>\n",
       "      <td>5.0 out of 5 stars</td>\n",
       "      <td>Die-Cast &amp; Toy Vehicles &gt; Toy Vehicles &amp; Acces...</td>\n",
       "    </tr>\n",
       "    <tr>\n",
       "      <th>5050</th>\n",
       "      <td>Oxford Diecast</td>\n",
       "      <td>5 new</td>\n",
       "      <td>2</td>\n",
       "      <td>2.0</td>\n",
       "      <td>5.0 out of 5 stars</td>\n",
       "      <td>Die-Cast &amp; Toy Vehicles &gt; Toy Vehicles &amp; Acces...</td>\n",
       "    </tr>\n",
       "    <tr>\n",
       "      <th>8262</th>\n",
       "      <td>k2-accessories Seed Beads</td>\n",
       "      <td>NaN</td>\n",
       "      <td>3</td>\n",
       "      <td>3.0</td>\n",
       "      <td>4.7 out of 5 stars</td>\n",
       "      <td>Arts &amp; Crafts &gt; Children's Craft Kits &gt; Bead A...</td>\n",
       "    </tr>\n",
       "    <tr>\n",
       "      <th>876</th>\n",
       "      <td>NECA</td>\n",
       "      <td>6 new</td>\n",
       "      <td>4</td>\n",
       "      <td>1.0</td>\n",
       "      <td>4.8 out of 5 stars</td>\n",
       "      <td>Figures &amp; Playsets &gt; Science Fiction &amp; Fantasy</td>\n",
       "    </tr>\n",
       "  </tbody>\n",
       "</table>\n",
       "<p>8533 rows × 6 columns</p>\n",
       "</div>"
      ],
      "text/plain": [
       "                          manufacturer number_available_in_stock  \\\n",
       "4396                        Paw Patrol                     3 new   \n",
       "6858  Personalised Bears and Rag Dolls                       NaN   \n",
       "6535                    Oxford Diecast                     2 new   \n",
       "3323                    Blue Frog Toys                       NaN   \n",
       "91                             Preiser                       NaN   \n",
       "...                                ...                       ...   \n",
       "5993                                DC                     2 new   \n",
       "5129                             Ebbro                     9 new   \n",
       "5050                    Oxford Diecast                     5 new   \n",
       "8262         k2-accessories Seed Beads                       NaN   \n",
       "876                               NECA                     6 new   \n",
       "\n",
       "     number_of_reviews  number_of_answered_questions average_review_rating  \\\n",
       "4396                 8                           2.0    4.6 out of 5 stars   \n",
       "6858                 3                           1.0    5.0 out of 5 stars   \n",
       "6535                 1                           1.0    5.0 out of 5 stars   \n",
       "3323                 1                           2.0    5.0 out of 5 stars   \n",
       "91                   1                           1.0    5.0 out of 5 stars   \n",
       "...                ...                           ...                   ...   \n",
       "5993                 1                           1.0    5.0 out of 5 stars   \n",
       "5129                 1                           1.0    5.0 out of 5 stars   \n",
       "5050                 2                           2.0    5.0 out of 5 stars   \n",
       "8262                 3                           3.0    4.7 out of 5 stars   \n",
       "876                  4                           1.0    4.8 out of 5 stars   \n",
       "\n",
       "                       amazon_category_and_sub_category  \n",
       "4396  Party Supplies > Banners, Stickers & Confetti ...  \n",
       "6858                   Dolls & Accessories > Soft Dolls  \n",
       "6535  Die-Cast & Toy Vehicles > Toy Vehicles & Acces...  \n",
       "3323                  Fancy Dress > Accessories > Masks  \n",
       "91    Hobbies > Model Trains & Railway Sets > Rail V...  \n",
       "...                                                 ...  \n",
       "5993     Figures & Playsets > Science Fiction & Fantasy  \n",
       "5129  Die-Cast & Toy Vehicles > Toy Vehicles & Acces...  \n",
       "5050  Die-Cast & Toy Vehicles > Toy Vehicles & Acces...  \n",
       "8262  Arts & Crafts > Children's Craft Kits > Bead A...  \n",
       "876      Figures & Playsets > Science Fiction & Fantasy  \n",
       "\n",
       "[8533 rows x 6 columns]"
      ]
     },
     "execution_count": 19,
     "metadata": {},
     "output_type": "execute_result"
    }
   ],
   "source": [
    "df = pd.concat([X_train, X_test], axis=0)\n",
    "df"
   ]
  },
  {
   "cell_type": "markdown",
   "metadata": {},
   "source": [
    "# Колонка manufacturer"
   ]
  },
  {
   "cell_type": "markdown",
   "metadata": {},
   "source": [
    "Очень много уникальных элементов"
   ]
  },
  {
   "cell_type": "code",
   "execution_count": 20,
   "metadata": {},
   "outputs": [
    {
     "data": {
      "text/plain": [
       "(2360,)"
      ]
     },
     "execution_count": 20,
     "metadata": {},
     "output_type": "execute_result"
    }
   ],
   "source": [
    "df.manufacturer.unique().shape"
   ]
  },
  {
   "cell_type": "code",
   "execution_count": 21,
   "metadata": {},
   "outputs": [
    {
     "data": {
      "text/plain": [
       "4396                          Paw Patrol\n",
       "6858    Personalised Bears and Rag Dolls\n",
       "6535                      Oxford Diecast\n",
       "3323                      Blue Frog Toys\n",
       "91                               Preiser\n",
       "                      ...               \n",
       "5993                                  DC\n",
       "5129                               Ebbro\n",
       "5050                      Oxford Diecast\n",
       "8262           k2-accessories Seed Beads\n",
       "876                                 NECA\n",
       "Name: manufacturer, Length: 8533, dtype: object"
      ]
     },
     "execution_count": 21,
     "metadata": {},
     "output_type": "execute_result"
    }
   ],
   "source": [
    "df.manufacturer"
   ]
  },
  {
   "cell_type": "markdown",
   "metadata": {},
   "source": [
    "Отсортируем элементы по кол-ву их встречаемости"
   ]
  },
  {
   "cell_type": "code",
   "execution_count": 22,
   "metadata": {},
   "outputs": [
    {
     "data": {
      "text/plain": [
       "Oxford Diecast                          152\n",
       "LEGO                                    138\n",
       "Disney                                  136\n",
       "Playmobil                               119\n",
       "The Puppet Company                      101\n",
       "                                       ... \n",
       "Coiledspring Games                        1\n",
       "GGS                                       1\n",
       "The Great British Teddy Bear Company      1\n",
       "Bing                                      1\n",
       "Snuggy Buds                               1\n",
       "Name: manufacturer, Length: 2359, dtype: int64"
      ]
     },
     "execution_count": 22,
     "metadata": {},
     "output_type": "execute_result"
    }
   ],
   "source": [
    "df.manufacturer.value_counts(sort=True)"
   ]
  },
  {
   "cell_type": "code",
   "execution_count": 23,
   "metadata": {},
   "outputs": [],
   "source": [
    "a = df.manufacturer.unique()\n",
    "b = np.array(df.manufacturer)\n",
    "cnt = np.zeros(a.shape[0])\n",
    "c = False\n",
    "\n",
    "for x in b:\n",
    "    for j, y in enumerate(a):\n",
    "        if x==y:\n",
    "            cnt[j] += 1\n",
    "            c = True\n",
    "        if c:\n",
    "            c = False\n",
    "            break"
   ]
  },
  {
   "cell_type": "markdown",
   "metadata": {},
   "source": [
    "В массиве cnt хранится кол-во раз встречаемости каждого элемента"
   ]
  },
  {
   "cell_type": "code",
   "execution_count": 24,
   "metadata": {},
   "outputs": [
    {
     "data": {
      "text/plain": [
       "array([  0.,   1.,   1., ..., 136., 138., 152.])"
      ]
     },
     "execution_count": 24,
     "metadata": {},
     "output_type": "execute_result"
    }
   ],
   "source": [
    "cnt2 = np.copy(cnt)\n",
    "cnt.sort()\n",
    "cnt"
   ]
  },
  {
   "cell_type": "markdown",
   "metadata": {},
   "source": [
    "Отобразим количество одинаковых элементов в массиве cnt на гистограме"
   ]
  },
  {
   "cell_type": "code",
   "execution_count": 25,
   "metadata": {},
   "outputs": [
    {
     "data": {
      "text/plain": [
       "(array([2.265e+03, 5.800e+01, 1.400e+01, 9.000e+00, 6.000e+00, 1.000e+00,\n",
       "        3.000e+00, 1.000e+00, 1.000e+00, 2.000e+00]),\n",
       " array([  0. ,  15.2,  30.4,  45.6,  60.8,  76. ,  91.2, 106.4, 121.6,\n",
       "        136.8, 152. ]),\n",
       " <BarContainer object of 10 artists>)"
      ]
     },
     "execution_count": 25,
     "metadata": {},
     "output_type": "execute_result"
    },
    {
     "data": {
      "image/png": "[encoded data removed]",
      "text/plain": [
       "<Figure size 640x480 with 1 Axes>"
      ]
     },
     "metadata": {},
     "output_type": "display_data"
    }
   ],
   "source": [
    "plt.hist(cnt)"
   ]
  },
  {
   "cell_type": "markdown",
   "metadata": {},
   "source": [
    "Установим границу, ниже которой элементы будут относиться к типу other"
   ]
  },
  {
   "cell_type": "code",
   "execution_count": 26,
   "metadata": {},
   "outputs": [],
   "source": [
    "low = 15"
   ]
  },
  {
   "cell_type": "code",
   "execution_count": 27,
   "metadata": {},
   "outputs": [
    {
     "data": {
      "text/plain": [
       "['Oxford Diecast',\n",
       " 'Preiser',\n",
       " 'Party2u',\n",
       " 'Crayola',\n",
       " 'Hasbro',\n",
       " 'Fiesta',\n",
       " 'Disney',\n",
       " 'Pams',\n",
       " 'Playmobil',\n",
       " 'Bburago',\n",
       " 'Tobar',\n",
       " 'Siku',\n",
       " 'LEGO',\n",
       " 'Thomas & Friends',\n",
       " 'FunKo',\n",
       " 'Papo',\n",
       " 'Baker Ross',\n",
       " 'Hornby',\n",
       " 'Mattel',\n",
       " 'Ty',\n",
       " 'POP! Vinyl',\n",
       " 'Generic',\n",
       " 'Transformers',\n",
       " 'Bigjigs Rail',\n",
       " 'Scalextric',\n",
       " 'FANCYDRESSCOZ',\n",
       " 'k2-accessories Charm Pendants',\n",
       " 'Hot Wheels',\n",
       " 'Manhattan Toy',\n",
       " 'Magic The Gathering',\n",
       " 'Every-occasion-party-supplies',\n",
       " 'Star Wars',\n",
       " 'Hama',\n",
       " 'Disney Junior',\n",
       " 'Unknown',\n",
       " 'Schleich',\n",
       " 'Me To You',\n",
       " 'The Puppet Company',\n",
       " 'Marvel',\n",
       " 'Town Square Miniatures',\n",
       " 'The fancy dress and party store',\n",
       " 'Oxford',\n",
       " 'Q-Workshop',\n",
       " 'Kato',\n",
       " 'Amscan',\n",
       " 'Powell Craft',\n",
       " 'Chessex',\n",
       " \"Smiffy's\",\n",
       " 'Pokémon',\n",
       " 'Intex',\n",
       " 'Disney Princess',\n",
       " 'Corgi',\n",
       " 'Revell-Monogram',\n",
       " 'A.S.PUPPETS',\n",
       " 'Star Cutouts Ltd',\n",
       " 'Cheatwell Games',\n",
       " 'Galt Toys',\n",
       " 'Creative',\n",
       " 'Brio',\n",
       " 'Takara Tomy',\n",
       " 'Wicked',\n",
       " 'Partyrama',\n",
       " 'Melissa & Doug',\n",
       " 'Character Options',\n",
       " 'Le Toy Van',\n",
       " 'Bandai',\n",
       " 'k2-accessories Jewellery Findings',\n",
       " 'Ravensburger',\n",
       " 'Tamiya',\n",
       " 'Match Attax',\n",
       " 'Ultra Pro',\n",
       " 'Bruder',\n",
       " 'AUTOart',\n",
       " \"Lyndie's Craft\",\n",
       " 'Italeri',\n",
       " 'Yu-Gi-Oh!',\n",
       " 'Maisto',\n",
       " 'Bristol Novelties',\n",
       " 'Just Say Beads',\n",
       " 'Bachmann',\n",
       " 'Bullyland',\n",
       " 'NECA',\n",
       " 'Top Trumps',\n",
       " 'Unique Party',\n",
       " 'Qualatex',\n",
       " 'Glitter Tattoo Stencils',\n",
       " 'MyTinyWorld',\n",
       " 'Fisher-Price',\n",
       " 'DC Comics',\n",
       " 'k2-accessories Alloy Metal Spacer Beads',\n",
       " 'Brookite',\n",
       " 'Bestway',\n",
       " 'Carrera',\n",
       " 'Dr Who',\n",
       " 'Welly']"
      ]
     },
     "execution_count": 27,
     "metadata": {},
     "output_type": "execute_result"
    }
   ],
   "source": [
    "mas = []\n",
    "for i, x in enumerate(a):\n",
    "    if cnt2[i] > low:\n",
    "        mas.append(x)\n",
    "mas"
   ]
  },
  {
   "cell_type": "code",
   "execution_count": 28,
   "metadata": {},
   "outputs": [],
   "source": [
    "def manuf_change(x, mas):\n",
    "    if x in mas:\n",
    "        return x\n",
    "    else:\n",
    "        x = \"other\"\n",
    "        return x"
   ]
  },
  {
   "cell_type": "code",
   "execution_count": 29,
   "metadata": {},
   "outputs": [
    {
     "data": {
      "text/plain": [
       "4396             other\n",
       "6858             other\n",
       "6535    Oxford Diecast\n",
       "3323             other\n",
       "91             Preiser\n",
       "             ...      \n",
       "5993             other\n",
       "5129             other\n",
       "5050    Oxford Diecast\n",
       "8262             other\n",
       "876               NECA\n",
       "Name: manufacturer, Length: 8533, dtype: object"
      ]
     },
     "execution_count": 29,
     "metadata": {},
     "output_type": "execute_result"
    }
   ],
   "source": [
    "df.manufacturer = df.manufacturer.apply(lambda x: manuf_change(x, mas))\n",
    "df.manufacturer"
   ]
  },
  {
   "cell_type": "markdown",
   "metadata": {},
   "source": [
    "Количество уникальных элементов сильно уменьшилось"
   ]
  },
  {
   "cell_type": "code",
   "execution_count": 30,
   "metadata": {},
   "outputs": [
    {
     "data": {
      "text/plain": [
       "96"
      ]
     },
     "execution_count": 30,
     "metadata": {},
     "output_type": "execute_result"
    }
   ],
   "source": [
    "df.manufacturer.unique().shape[0]"
   ]
  },
  {
   "cell_type": "markdown",
   "metadata": {},
   "source": [
    "# Колонка price (target)"
   ]
  },
  {
   "cell_type": "code",
   "execution_count": 31,
   "metadata": {},
   "outputs": [
    {
     "data": {
      "text/plain": [
       "4396      £1.50\n",
       "6858     £22.00\n",
       "6535      £6.60\n",
       "3323      £2.95\n",
       "91      £137.16\n",
       "         ...   \n",
       "5746     £24.99\n",
       "5202      £7.90\n",
       "5401      £1.32\n",
       "865       £7.99\n",
       "7282      £7.99\n",
       "Name: price, Length: 5546, dtype: object"
      ]
     },
     "execution_count": 31,
     "metadata": {},
     "output_type": "execute_result"
    }
   ],
   "source": [
    "y_train"
   ]
  },
  {
   "cell_type": "markdown",
   "metadata": {},
   "source": [
    "Приведем к вещественному типу колонку price"
   ]
  },
  {
   "cell_type": "code",
   "execution_count": 32,
   "metadata": {},
   "outputs": [],
   "source": [
    "def price_float(x):\n",
    "    x = x[1:]\n",
    "    if ',' in x:\n",
    "        ans = \"\"\n",
    "        for s in x:\n",
    "            if s != ',':\n",
    "                ans += s\n",
    "            return float(ans)\n",
    "    return float(x)"
   ]
  },
  {
   "cell_type": "markdown",
   "metadata": {},
   "source": [
    "Добавим таргет в датафрейм"
   ]
  },
  {
   "cell_type": "code",
   "execution_count": 33,
   "metadata": {},
   "outputs": [
    {
     "data": {
      "text/plain": [
       "4396      £1.50\n",
       "6858     £22.00\n",
       "6535      £6.60\n",
       "3323      £2.95\n",
       "91      £137.16\n",
       "         ...   \n",
       "5993     £56.42\n",
       "5129     £39.99\n",
       "5050      £6.95\n",
       "8262      £0.99\n",
       "876      £19.11\n",
       "Name: price, Length: 8533, dtype: object"
      ]
     },
     "execution_count": 33,
     "metadata": {},
     "output_type": "execute_result"
    }
   ],
   "source": [
    "df[\"price\"] = pd.concat([y_train, y_test], axis = 0)\n",
    "df.price"
   ]
  },
  {
   "cell_type": "code",
   "execution_count": 34,
   "metadata": {},
   "outputs": [
    {
     "data": {
      "text/plain": [
       "4396      1.50\n",
       "6858     22.00\n",
       "6535      6.60\n",
       "3323      2.95\n",
       "91      137.16\n",
       "         ...  \n",
       "5993     56.42\n",
       "5129     39.99\n",
       "5050      6.95\n",
       "8262      0.99\n",
       "876      19.11\n",
       "Name: price, Length: 8533, dtype: float64"
      ]
     },
     "execution_count": 34,
     "metadata": {},
     "output_type": "execute_result"
    }
   ],
   "source": [
    "df.price = df.price.apply(lambda x: price_float(x))\n",
    "df.price"
   ]
  },
  {
   "cell_type": "markdown",
   "metadata": {},
   "source": [
    "# Колонка number_available_in_stock"
   ]
  },
  {
   "cell_type": "code",
   "execution_count": 35,
   "metadata": {},
   "outputs": [
    {
     "data": {
      "text/plain": [
       "4396    3 new\n",
       "6858      NaN\n",
       "6535    2 new\n",
       "3323      NaN\n",
       "91        NaN\n",
       "        ...  \n",
       "5993    2 new\n",
       "5129    9 new\n",
       "5050    5 new\n",
       "8262      NaN\n",
       "876     6 new\n",
       "Name: number_available_in_stock, Length: 8533, dtype: object"
      ]
     },
     "execution_count": 35,
     "metadata": {},
     "output_type": "execute_result"
    }
   ],
   "source": [
    "df.number_available_in_stock"
   ]
  },
  {
   "cell_type": "markdown",
   "metadata": {},
   "source": [
    "Видно, что эту колонку можно разбить на 2"
   ]
  },
  {
   "cell_type": "code",
   "execution_count": 36,
   "metadata": {},
   "outputs": [
    {
     "data": {
      "text/plain": [
       "array(['3\\xa0new', nan, '2\\xa0new', '10\\xa0new', '4\\xa0new', '14\\xa0new',\n",
       "       '6\\xa0new', '18\\xa0new', '5\\xa0new', '38\\xa0new', '37\\xa0new',\n",
       "       '11\\xa0new', '13\\xa0new', '8\\xa0new', '7\\xa0new', '21\\xa0new',\n",
       "       '16\\xa0new', '28\\xa0new', '17\\xa0new', '45\\xa0new', '29\\xa0new',\n",
       "       '27\\xa0new', '12\\xa0new', '49\\xa0new', '9\\xa0new', '22\\xa0new',\n",
       "       '19\\xa0new', '25\\xa0new', '23\\xa0new', '36\\xa0new', '39\\xa0new',\n",
       "       '15\\xa0new', '20\\xa0new', '1\\xa0used', '26\\xa0new', '34\\xa0new',\n",
       "       '40\\xa0new', '32\\xa0new', '41\\xa0new', '30\\xa0new', '24\\xa0new',\n",
       "       '46\\xa0new', '31\\xa0new', '1\\xa0refurbished', '33\\xa0new',\n",
       "       '43\\xa0new', '60\\xa0new', '58\\xa0new', '65\\xa0new', '47\\xa0new',\n",
       "       '63\\xa0new', '6\\xa0used', '2\\xa0used', '1\\xa0collectible',\n",
       "       '3\\xa0used', '14\\xa0used', '42\\xa0new', '56\\xa0new', '48\\xa0new',\n",
       "       '57\\xa0new', '53\\xa0new', '35\\xa0new', '51\\xa0new', '62\\xa0new',\n",
       "       '86\\xa0new', '59\\xa0new', '74\\xa0new', '44\\xa0new', '10\\xa0used',\n",
       "       '4\\xa0used', '55\\xa0new', '54\\xa0new', '73\\xa0new', '69\\xa0new',\n",
       "       '71\\xa0new', '72\\xa0new', '78\\xa0new', '66\\xa0new', '70\\xa0new',\n",
       "       '50\\xa0new', '92\\xa0new', '52\\xa0new', '64\\xa0new'], dtype=object)"
      ]
     },
     "execution_count": 36,
     "metadata": {},
     "output_type": "execute_result"
    }
   ],
   "source": [
    "df.number_available_in_stock.unique()"
   ]
  },
  {
   "cell_type": "code",
   "execution_count": 37,
   "metadata": {},
   "outputs": [],
   "source": [
    "def devide_one(x):\n",
    "    if (type(x)) == str:\n",
    "        t = x.split()\n",
    "        return int(t[0])\n",
    "    else:\n",
    "        return x\n",
    "\n",
    "def devide_two(x):\n",
    "    if (type(x)) == str:\n",
    "        t = x.split()\n",
    "        return t[1]\n",
    "    else:\n",
    "        return x"
   ]
  },
  {
   "cell_type": "markdown",
   "metadata": {},
   "source": [
    "Добавим 2 новые колонки в датафрейм"
   ]
  },
  {
   "cell_type": "code",
   "execution_count": 38,
   "metadata": {},
   "outputs": [
    {
     "data": {
      "text/plain": [
       "4396    3.0\n",
       "6858    NaN\n",
       "6535    2.0\n",
       "3323    NaN\n",
       "91      NaN\n",
       "       ... \n",
       "5993    2.0\n",
       "5129    9.0\n",
       "5050    5.0\n",
       "8262    NaN\n",
       "876     6.0\n",
       "Name: number_avaible, Length: 8533, dtype: float64"
      ]
     },
     "execution_count": 38,
     "metadata": {},
     "output_type": "execute_result"
    }
   ],
   "source": [
    "df['number_avaible'] = df.number_available_in_stock.apply(lambda x: devide_one(x))\n",
    "df.number_avaible"
   ]
  },
  {
   "cell_type": "code",
   "execution_count": 39,
   "metadata": {},
   "outputs": [
    {
     "data": {
      "text/plain": [
       "4396    new\n",
       "6858    NaN\n",
       "6535    new\n",
       "3323    NaN\n",
       "91      NaN\n",
       "       ... \n",
       "5993    new\n",
       "5129    new\n",
       "5050    new\n",
       "8262    NaN\n",
       "876     new\n",
       "Name: condition, Length: 8533, dtype: object"
      ]
     },
     "execution_count": 39,
     "metadata": {},
     "output_type": "execute_result"
    }
   ],
   "source": [
    "df[\"condition\"] = df.number_available_in_stock.apply(lambda x: devide_two(x))\n",
    "df.condition"
   ]
  },
  {
   "cell_type": "markdown",
   "metadata": {},
   "source": [
    "Колонка condition является категориальной номинальной, так как непонятно как проставить номера категориям, поэтому закодируем(потом) при помощи one-hot"
   ]
  },
  {
   "cell_type": "code",
   "execution_count": 40,
   "metadata": {},
   "outputs": [
    {
     "data": {
      "text/plain": [
       "array(['new', nan, 'used', 'refurbished', 'collectible'], dtype=object)"
      ]
     },
     "execution_count": 40,
     "metadata": {},
     "output_type": "execute_result"
    }
   ],
   "source": [
    "df['condition'].unique()"
   ]
  },
  {
   "cell_type": "markdown",
   "metadata": {},
   "source": [
    "Теперь из исходного датафрейма удалим колонку number_available_in_stock"
   ]
  },
  {
   "cell_type": "code",
   "execution_count": 41,
   "metadata": {},
   "outputs": [
    {
     "data": {
      "text/html": [
       "<div>\n",
       "<style scoped>\n",
       "    .dataframe tbody tr th:only-of-type {\n",
       "        vertical-align: middle;\n",
       "    }\n",
       "\n",
       "    .dataframe tbody tr th {\n",
       "        vertical-align: top;\n",
       "    }\n",
       "\n",
       "    .dataframe thead th {\n",
       "        text-align: right;\n",
       "    }\n",
       "</style>\n",
       "<table border=\"1\" class=\"dataframe\">\n",
       "  <thead>\n",
       "    <tr style=\"text-align: right;\">\n",
       "      <th></th>\n",
       "      <th>manufacturer</th>\n",
       "      <th>number_of_reviews</th>\n",
       "      <th>number_of_answered_questions</th>\n",
       "      <th>average_review_rating</th>\n",
       "      <th>amazon_category_and_sub_category</th>\n",
       "      <th>price</th>\n",
       "      <th>number_avaible</th>\n",
       "      <th>condition</th>\n",
       "    </tr>\n",
       "  </thead>\n",
       "  <tbody>\n",
       "    <tr>\n",
       "      <th>4396</th>\n",
       "      <td>other</td>\n",
       "      <td>8</td>\n",
       "      <td>2.0</td>\n",
       "      <td>4.6 out of 5 stars</td>\n",
       "      <td>Party Supplies &gt; Banners, Stickers &amp; Confetti ...</td>\n",
       "      <td>1.50</td>\n",
       "      <td>3.0</td>\n",
       "      <td>new</td>\n",
       "    </tr>\n",
       "    <tr>\n",
       "      <th>6858</th>\n",
       "      <td>other</td>\n",
       "      <td>3</td>\n",
       "      <td>1.0</td>\n",
       "      <td>5.0 out of 5 stars</td>\n",
       "      <td>Dolls &amp; Accessories &gt; Soft Dolls</td>\n",
       "      <td>22.00</td>\n",
       "      <td>NaN</td>\n",
       "      <td>NaN</td>\n",
       "    </tr>\n",
       "    <tr>\n",
       "      <th>6535</th>\n",
       "      <td>Oxford Diecast</td>\n",
       "      <td>1</td>\n",
       "      <td>1.0</td>\n",
       "      <td>5.0 out of 5 stars</td>\n",
       "      <td>Die-Cast &amp; Toy Vehicles &gt; Toy Vehicles &amp; Acces...</td>\n",
       "      <td>6.60</td>\n",
       "      <td>2.0</td>\n",
       "      <td>new</td>\n",
       "    </tr>\n",
       "    <tr>\n",
       "      <th>3323</th>\n",
       "      <td>other</td>\n",
       "      <td>1</td>\n",
       "      <td>2.0</td>\n",
       "      <td>5.0 out of 5 stars</td>\n",
       "      <td>Fancy Dress &gt; Accessories &gt; Masks</td>\n",
       "      <td>2.95</td>\n",
       "      <td>NaN</td>\n",
       "      <td>NaN</td>\n",
       "    </tr>\n",
       "    <tr>\n",
       "      <th>91</th>\n",
       "      <td>Preiser</td>\n",
       "      <td>1</td>\n",
       "      <td>1.0</td>\n",
       "      <td>5.0 out of 5 stars</td>\n",
       "      <td>Hobbies &gt; Model Trains &amp; Railway Sets &gt; Rail V...</td>\n",
       "      <td>137.16</td>\n",
       "      <td>NaN</td>\n",
       "      <td>NaN</td>\n",
       "    </tr>\n",
       "  </tbody>\n",
       "</table>\n",
       "</div>"
      ],
      "text/plain": [
       "        manufacturer number_of_reviews  number_of_answered_questions  \\\n",
       "4396           other                 8                           2.0   \n",
       "6858           other                 3                           1.0   \n",
       "6535  Oxford Diecast                 1                           1.0   \n",
       "3323           other                 1                           2.0   \n",
       "91           Preiser                 1                           1.0   \n",
       "\n",
       "     average_review_rating                   amazon_category_and_sub_category  \\\n",
       "4396    4.6 out of 5 stars  Party Supplies > Banners, Stickers & Confetti ...   \n",
       "6858    5.0 out of 5 stars                   Dolls & Accessories > Soft Dolls   \n",
       "6535    5.0 out of 5 stars  Die-Cast & Toy Vehicles > Toy Vehicles & Acces...   \n",
       "3323    5.0 out of 5 stars                  Fancy Dress > Accessories > Masks   \n",
       "91      5.0 out of 5 stars  Hobbies > Model Trains & Railway Sets > Rail V...   \n",
       "\n",
       "       price  number_avaible condition  \n",
       "4396    1.50             3.0       new  \n",
       "6858   22.00             NaN       NaN  \n",
       "6535    6.60             2.0       new  \n",
       "3323    2.95             NaN       NaN  \n",
       "91    137.16             NaN       NaN  "
      ]
     },
     "execution_count": 41,
     "metadata": {},
     "output_type": "execute_result"
    }
   ],
   "source": [
    "df = df.drop(['number_available_in_stock'], axis=1)\n",
    "df.head(5)"
   ]
  },
  {
   "cell_type": "markdown",
   "metadata": {},
   "source": [
    "# Колонка number_of_reviews"
   ]
  },
  {
   "cell_type": "markdown",
   "metadata": {},
   "source": [
    "Изменим тип данных каждого элемента"
   ]
  },
  {
   "cell_type": "code",
   "execution_count": 42,
   "metadata": {},
   "outputs": [
    {
     "data": {
      "text/plain": [
       "4396    8\n",
       "6858    3\n",
       "6535    1\n",
       "3323    1\n",
       "91      1\n",
       "       ..\n",
       "5993    1\n",
       "5129    1\n",
       "5050    2\n",
       "8262    3\n",
       "876     4\n",
       "Name: number_of_reviews, Length: 8533, dtype: object"
      ]
     },
     "execution_count": 42,
     "metadata": {},
     "output_type": "execute_result"
    }
   ],
   "source": [
    "df.number_of_reviews"
   ]
  },
  {
   "cell_type": "code",
   "execution_count": 43,
   "metadata": {},
   "outputs": [],
   "source": [
    "def obj_to_float(x):\n",
    "    x = str(x)\n",
    "    if ',' in x:\n",
    "        ans = \"\"\n",
    "        for s in x:\n",
    "            if s != ',':\n",
    "                ans += s\n",
    "                return float(ans)\n",
    "    else:\n",
    "        return float(x)"
   ]
  },
  {
   "cell_type": "code",
   "execution_count": 44,
   "metadata": {},
   "outputs": [
    {
     "data": {
      "text/plain": [
       "4396    8.0\n",
       "6858    3.0\n",
       "6535    1.0\n",
       "3323    1.0\n",
       "91      1.0\n",
       "       ... \n",
       "5993    1.0\n",
       "5129    1.0\n",
       "5050    2.0\n",
       "8262    3.0\n",
       "876     4.0\n",
       "Name: number_of_reviews, Length: 8533, dtype: float64"
      ]
     },
     "execution_count": 44,
     "metadata": {},
     "output_type": "execute_result"
    }
   ],
   "source": [
    "df.number_of_reviews = df.number_of_reviews.apply(lambda x: obj_to_float(x))\n",
    "df.number_of_reviews"
   ]
  },
  {
   "cell_type": "markdown",
   "metadata": {},
   "source": [
    "# Колонка average_review_rating"
   ]
  },
  {
   "cell_type": "code",
   "execution_count": 45,
   "metadata": {},
   "outputs": [
    {
     "data": {
      "text/plain": [
       "4396    4.6 out of 5 stars\n",
       "6858    5.0 out of 5 stars\n",
       "6535    5.0 out of 5 stars\n",
       "3323    5.0 out of 5 stars\n",
       "91      5.0 out of 5 stars\n",
       "               ...        \n",
       "5993    5.0 out of 5 stars\n",
       "5129    5.0 out of 5 stars\n",
       "5050    5.0 out of 5 stars\n",
       "8262    4.7 out of 5 stars\n",
       "876     4.8 out of 5 stars\n",
       "Name: average_review_rating, Length: 8533, dtype: object"
      ]
     },
     "execution_count": 45,
     "metadata": {},
     "output_type": "execute_result"
    }
   ],
   "source": [
    "df.average_review_rating"
   ]
  },
  {
   "cell_type": "markdown",
   "metadata": {},
   "source": [
    "Выделим из каждой строки только рейтинг и приведем к вещественному типу"
   ]
  },
  {
   "cell_type": "code",
   "execution_count": 46,
   "metadata": {},
   "outputs": [],
   "source": [
    "def rating(x):\n",
    "    x = str(x)\n",
    "    x = x.split()\n",
    "    return float(x[0])"
   ]
  },
  {
   "cell_type": "code",
   "execution_count": 47,
   "metadata": {},
   "outputs": [
    {
     "data": {
      "text/plain": [
       "4396    4.6\n",
       "6858    5.0\n",
       "6535    5.0\n",
       "3323    5.0\n",
       "91      5.0\n",
       "       ... \n",
       "5993    5.0\n",
       "5129    5.0\n",
       "5050    5.0\n",
       "8262    4.7\n",
       "876     4.8\n",
       "Name: average_review_rating, Length: 8533, dtype: float64"
      ]
     },
     "execution_count": 47,
     "metadata": {},
     "output_type": "execute_result"
    }
   ],
   "source": [
    "df.average_review_rating = df.average_review_rating.apply(lambda x: rating(x))\n",
    "df.average_review_rating"
   ]
  },
  {
   "cell_type": "markdown",
   "metadata": {},
   "source": [
    "# Колонка amazon_category_and_sub_category"
   ]
  },
  {
   "cell_type": "code",
   "execution_count": 48,
   "metadata": {},
   "outputs": [
    {
     "data": {
      "text/plain": [
       "4396    Party Supplies > Banners, Stickers & Confetti ...\n",
       "6858                     Dolls & Accessories > Soft Dolls\n",
       "6535    Die-Cast & Toy Vehicles > Toy Vehicles & Acces...\n",
       "3323                    Fancy Dress > Accessories > Masks\n",
       "91      Hobbies > Model Trains & Railway Sets > Rail V...\n",
       "                              ...                        \n",
       "5993       Figures & Playsets > Science Fiction & Fantasy\n",
       "5129    Die-Cast & Toy Vehicles > Toy Vehicles & Acces...\n",
       "5050    Die-Cast & Toy Vehicles > Toy Vehicles & Acces...\n",
       "8262    Arts & Crafts > Children's Craft Kits > Bead A...\n",
       "876        Figures & Playsets > Science Fiction & Fantasy\n",
       "Name: amazon_category_and_sub_category, Length: 8533, dtype: object"
      ]
     },
     "execution_count": 48,
     "metadata": {},
     "output_type": "execute_result"
    }
   ],
   "source": [
    "df.amazon_category_and_sub_category"
   ]
  },
  {
   "cell_type": "markdown",
   "metadata": {},
   "source": [
    "Число уникальных индексов довольно велико"
   ]
  },
  {
   "cell_type": "code",
   "execution_count": 49,
   "metadata": {},
   "outputs": [
    {
     "data": {
      "text/plain": [
       "(236,)"
      ]
     },
     "execution_count": 49,
     "metadata": {},
     "output_type": "execute_result"
    }
   ],
   "source": [
    "df.amazon_category_and_sub_category.unique().shape"
   ]
  },
  {
   "cell_type": "markdown",
   "metadata": {},
   "source": [
    "Также как и с колонкой manufacturer посчитаем встречаемость каждого элемента"
   ]
  },
  {
   "cell_type": "code",
   "execution_count": 50,
   "metadata": {},
   "outputs": [],
   "source": [
    "a = df.amazon_category_and_sub_category.unique()\n",
    "b = np.array(df.amazon_category_and_sub_category)\n",
    "cnt = np.zeros(a.shape[0])\n",
    "c = False\n",
    "\n",
    "for x in b:\n",
    "    for j, y in enumerate(a):\n",
    "        if x==y:\n",
    "            cnt[j] += 1\n",
    "            c = True\n",
    "        if c:\n",
    "            c = False\n",
    "            break"
   ]
  },
  {
   "cell_type": "code",
   "execution_count": 51,
   "metadata": {},
   "outputs": [
    {
     "data": {
      "text/plain": [
       "array([  0.,   1.,   1.,   1.,   1.,   1.,   1.,   1.,   1.,   1.,   1.,\n",
       "         1.,   1.,   1.,   1.,   1.,   1.,   1.,   1.,   1.,   1.,   1.,\n",
       "         1.,   1.,   1.,   1.,   1.,   1.,   1.,   1.,   1.,   1.,   1.,\n",
       "         1.,   1.,   1.,   1.,   1.,   1.,   1.,   1.,   1.,   1.,   1.,\n",
       "         1.,   1.,   1.,   1.,   1.,   1.,   1.,   1.,   1.,   1.,   1.,\n",
       "         1.,   1.,   1.,   1.,   1.,   1.,   1.,   1.,   1.,   1.,   1.,\n",
       "         1.,   1.,   1.,   1.,   1.,   1.,   1.,   1.,   1.,   1.,   1.,\n",
       "         1.,   1.,   1.,   2.,   2.,   2.,   2.,   2.,   2.,   2.,   2.,\n",
       "         2.,   2.,   2.,   2.,   2.,   2.,   2.,   2.,   2.,   2.,   2.,\n",
       "         2.,   2.,   2.,   3.,   3.,   3.,   3.,   3.,   3.,   3.,   3.,\n",
       "         3.,   3.,   3.,   3.,   3.,   4.,   4.,   4.,   4.,   4.,   4.,\n",
       "         4.,   4.,   5.,   5.,   5.,   5.,   5.,   6.,   6.,   6.,   6.,\n",
       "         6.,   7.,   7.,   7.,   7.,   7.,   7.,   7.,   7.,   8.,   8.,\n",
       "         8.,   9.,   9.,   9.,  10.,  10.,  10.,  10.,  11.,  11.,  11.,\n",
       "        11.,  11.,  11.,  12.,  12.,  13.,  13.,  13.,  13.,  14.,  15.,\n",
       "        17.,  18.,  20.,  22.,  23.,  25.,  25.,  26.,  26.,  26.,  26.,\n",
       "        27.,  28.,  28.,  31.,  32.,  33.,  34.,  35.,  36.,  37.,  37.,\n",
       "        38.,  39.,  40.,  40.,  42.,  46.,  50.,  50.,  51.,  52.,  54.,\n",
       "        60.,  61.,  66.,  67.,  70.,  70.,  72.,  74.,  75.,  79.,  82.,\n",
       "        90.,  96., 101., 110., 121., 122., 122., 126., 127., 129., 143.,\n",
       "       145., 150., 161., 169., 170., 180., 216., 219., 249., 261., 272.,\n",
       "       284., 293., 340., 360., 784.])"
      ]
     },
     "execution_count": 51,
     "metadata": {},
     "output_type": "execute_result"
    }
   ],
   "source": [
    "cnt2 = np.copy(cnt)\n",
    "cnt.sort()\n",
    "cnt"
   ]
  },
  {
   "cell_type": "code",
   "execution_count": 52,
   "metadata": {},
   "outputs": [
    {
     "data": {
      "text/plain": [
       "(array([207.,  15.,   6.,   5.,   2.,   0.,   0.,   0.,   0.,   1.]),\n",
       " array([  0. ,  78.4, 156.8, 235.2, 313.6, 392. , 470.4, 548.8, 627.2,\n",
       "        705.6, 784. ]),\n",
       " <BarContainer object of 10 artists>)"
      ]
     },
     "execution_count": 52,
     "metadata": {},
     "output_type": "execute_result"
    },
    {
     "data": {
      "image/png": "[encoded data removed]",
      "text/plain": [
       "<Figure size 640x480 with 1 Axes>"
      ]
     },
     "metadata": {},
     "output_type": "display_data"
    }
   ],
   "source": [
    "plt.hist(cnt)"
   ]
  },
  {
   "cell_type": "markdown",
   "metadata": {},
   "source": [
    "Установим границу, ниже которой элементы будут попадать в other"
   ]
  },
  {
   "cell_type": "code",
   "execution_count": 53,
   "metadata": {},
   "outputs": [],
   "source": [
    "low = 100"
   ]
  },
  {
   "cell_type": "code",
   "execution_count": 54,
   "metadata": {},
   "outputs": [],
   "source": [
    "mas = []\n",
    "for i, x in enumerate(a):\n",
    "    if cnt2[i] >= low:\n",
    "        mas.append(x)\n",
    "#mas"
   ]
  },
  {
   "cell_type": "code",
   "execution_count": 55,
   "metadata": {},
   "outputs": [],
   "source": [
    "def amazon_change(x, mas):\n",
    "    if x in mas:\n",
    "        return x\n",
    "    else:\n",
    "        x = \"other\"\n",
    "        return x"
   ]
  },
  {
   "cell_type": "code",
   "execution_count": 56,
   "metadata": {},
   "outputs": [],
   "source": [
    "df.amazon_category_and_sub_category = df.amazon_category_and_sub_category.apply(lambda x: amazon_change(x, mas))\n",
    "#df.amazon_category_and_sub_category"
   ]
  },
  {
   "cell_type": "markdown",
   "metadata": {},
   "source": [
    "Размерность уменьшилась"
   ]
  },
  {
   "cell_type": "code",
   "execution_count": 57,
   "metadata": {},
   "outputs": [
    {
     "data": {
      "text/plain": [
       "(26,)"
      ]
     },
     "execution_count": 57,
     "metadata": {},
     "output_type": "execute_result"
    }
   ],
   "source": [
    "df.amazon_category_and_sub_category.unique().shape"
   ]
  },
  {
   "cell_type": "code",
   "execution_count": 58,
   "metadata": {},
   "outputs": [
    {
     "name": "stdout",
     "output_type": "stream",
     "text": [
      "<class 'pandas.core.frame.DataFrame'>\n",
      "Int64Index: 8533 entries, 4396 to 876\n",
      "Data columns (total 8 columns):\n",
      " #   Column                            Non-Null Count  Dtype  \n",
      "---  ------                            --------------  -----  \n",
      " 0   manufacturer                      8533 non-null   object \n",
      " 1   number_of_reviews                 8523 non-null   float64\n",
      " 2   number_of_answered_questions      8533 non-null   float64\n",
      " 3   average_review_rating             8523 non-null   float64\n",
      " 4   amazon_category_and_sub_category  8533 non-null   object \n",
      " 5   price                             8533 non-null   float64\n",
      " 6   number_avaible                    6332 non-null   float64\n",
      " 7   condition                         6332 non-null   object \n",
      "dtypes: float64(5), object(3)\n",
      "memory usage: 600.0+ KB\n"
     ]
    }
   ],
   "source": [
    "df.info()"
   ]
  },
  {
   "cell_type": "markdown",
   "metadata": {},
   "source": [
    "Кодирование (с помощью OneHot)"
   ]
  },
  {
   "cell_type": "code",
   "execution_count": 59,
   "metadata": {},
   "outputs": [
    {
     "data": {
      "text/html": [
       "<div>\n",
       "<style scoped>\n",
       "    .dataframe tbody tr th:only-of-type {\n",
       "        vertical-align: middle;\n",
       "    }\n",
       "\n",
       "    .dataframe tbody tr th {\n",
       "        vertical-align: top;\n",
       "    }\n",
       "\n",
       "    .dataframe thead th {\n",
       "        text-align: right;\n",
       "    }\n",
       "</style>\n",
       "<table border=\"1\" class=\"dataframe\">\n",
       "  <thead>\n",
       "    <tr style=\"text-align: right;\">\n",
       "      <th></th>\n",
       "      <th>number_of_reviews</th>\n",
       "      <th>number_of_answered_questions</th>\n",
       "      <th>average_review_rating</th>\n",
       "      <th>price</th>\n",
       "      <th>number_avaible</th>\n",
       "      <th>manufacturer_A.S.PUPPETS</th>\n",
       "      <th>manufacturer_AUTOart</th>\n",
       "      <th>manufacturer_Amscan</th>\n",
       "      <th>manufacturer_Bachmann</th>\n",
       "      <th>manufacturer_Baker Ross</th>\n",
       "      <th>...</th>\n",
       "      <th>amazon_category_and_sub_category_Jigsaws &amp; Puzzles &gt; Jigsaws</th>\n",
       "      <th>amazon_category_and_sub_category_Party Supplies &gt; Banners, Stickers &amp; Confetti &gt; Banners</th>\n",
       "      <th>amazon_category_and_sub_category_Party Supplies &gt; Decorations &gt; Balloons</th>\n",
       "      <th>amazon_category_and_sub_category_Puppets &amp; Puppet Theatres &gt; Hand Puppets</th>\n",
       "      <th>amazon_category_and_sub_category_Sports Toys &amp; Outdoor &gt; Kites &amp; Flight Toys</th>\n",
       "      <th>amazon_category_and_sub_category_other</th>\n",
       "      <th>condition_collectible</th>\n",
       "      <th>condition_new</th>\n",
       "      <th>condition_refurbished</th>\n",
       "      <th>condition_used</th>\n",
       "    </tr>\n",
       "  </thead>\n",
       "  <tbody>\n",
       "    <tr>\n",
       "      <th>4396</th>\n",
       "      <td>8.0</td>\n",
       "      <td>2.0</td>\n",
       "      <td>4.6</td>\n",
       "      <td>1.50</td>\n",
       "      <td>3.0</td>\n",
       "      <td>0</td>\n",
       "      <td>0</td>\n",
       "      <td>0</td>\n",
       "      <td>0</td>\n",
       "      <td>0</td>\n",
       "      <td>...</td>\n",
       "      <td>0</td>\n",
       "      <td>0</td>\n",
       "      <td>0</td>\n",
       "      <td>0</td>\n",
       "      <td>0</td>\n",
       "      <td>1</td>\n",
       "      <td>0</td>\n",
       "      <td>1</td>\n",
       "      <td>0</td>\n",
       "      <td>0</td>\n",
       "    </tr>\n",
       "    <tr>\n",
       "      <th>6858</th>\n",
       "      <td>3.0</td>\n",
       "      <td>1.0</td>\n",
       "      <td>5.0</td>\n",
       "      <td>22.00</td>\n",
       "      <td>NaN</td>\n",
       "      <td>0</td>\n",
       "      <td>0</td>\n",
       "      <td>0</td>\n",
       "      <td>0</td>\n",
       "      <td>0</td>\n",
       "      <td>...</td>\n",
       "      <td>0</td>\n",
       "      <td>0</td>\n",
       "      <td>0</td>\n",
       "      <td>0</td>\n",
       "      <td>0</td>\n",
       "      <td>0</td>\n",
       "      <td>0</td>\n",
       "      <td>0</td>\n",
       "      <td>0</td>\n",
       "      <td>0</td>\n",
       "    </tr>\n",
       "    <tr>\n",
       "      <th>6535</th>\n",
       "      <td>1.0</td>\n",
       "      <td>1.0</td>\n",
       "      <td>5.0</td>\n",
       "      <td>6.60</td>\n",
       "      <td>2.0</td>\n",
       "      <td>0</td>\n",
       "      <td>0</td>\n",
       "      <td>0</td>\n",
       "      <td>0</td>\n",
       "      <td>0</td>\n",
       "      <td>...</td>\n",
       "      <td>0</td>\n",
       "      <td>0</td>\n",
       "      <td>0</td>\n",
       "      <td>0</td>\n",
       "      <td>0</td>\n",
       "      <td>0</td>\n",
       "      <td>0</td>\n",
       "      <td>1</td>\n",
       "      <td>0</td>\n",
       "      <td>0</td>\n",
       "    </tr>\n",
       "    <tr>\n",
       "      <th>3323</th>\n",
       "      <td>1.0</td>\n",
       "      <td>2.0</td>\n",
       "      <td>5.0</td>\n",
       "      <td>2.95</td>\n",
       "      <td>NaN</td>\n",
       "      <td>0</td>\n",
       "      <td>0</td>\n",
       "      <td>0</td>\n",
       "      <td>0</td>\n",
       "      <td>0</td>\n",
       "      <td>...</td>\n",
       "      <td>0</td>\n",
       "      <td>0</td>\n",
       "      <td>0</td>\n",
       "      <td>0</td>\n",
       "      <td>0</td>\n",
       "      <td>0</td>\n",
       "      <td>0</td>\n",
       "      <td>0</td>\n",
       "      <td>0</td>\n",
       "      <td>0</td>\n",
       "    </tr>\n",
       "    <tr>\n",
       "      <th>91</th>\n",
       "      <td>1.0</td>\n",
       "      <td>1.0</td>\n",
       "      <td>5.0</td>\n",
       "      <td>137.16</td>\n",
       "      <td>NaN</td>\n",
       "      <td>0</td>\n",
       "      <td>0</td>\n",
       "      <td>0</td>\n",
       "      <td>0</td>\n",
       "      <td>0</td>\n",
       "      <td>...</td>\n",
       "      <td>0</td>\n",
       "      <td>0</td>\n",
       "      <td>0</td>\n",
       "      <td>0</td>\n",
       "      <td>0</td>\n",
       "      <td>0</td>\n",
       "      <td>0</td>\n",
       "      <td>0</td>\n",
       "      <td>0</td>\n",
       "      <td>0</td>\n",
       "    </tr>\n",
       "    <tr>\n",
       "      <th>...</th>\n",
       "      <td>...</td>\n",
       "      <td>...</td>\n",
       "      <td>...</td>\n",
       "      <td>...</td>\n",
       "      <td>...</td>\n",
       "      <td>...</td>\n",
       "      <td>...</td>\n",
       "      <td>...</td>\n",
       "      <td>...</td>\n",
       "      <td>...</td>\n",
       "      <td>...</td>\n",
       "      <td>...</td>\n",
       "      <td>...</td>\n",
       "      <td>...</td>\n",
       "      <td>...</td>\n",
       "      <td>...</td>\n",
       "      <td>...</td>\n",
       "      <td>...</td>\n",
       "      <td>...</td>\n",
       "      <td>...</td>\n",
       "      <td>...</td>\n",
       "    </tr>\n",
       "    <tr>\n",
       "      <th>5993</th>\n",
       "      <td>1.0</td>\n",
       "      <td>1.0</td>\n",
       "      <td>5.0</td>\n",
       "      <td>56.42</td>\n",
       "      <td>2.0</td>\n",
       "      <td>0</td>\n",
       "      <td>0</td>\n",
       "      <td>0</td>\n",
       "      <td>0</td>\n",
       "      <td>0</td>\n",
       "      <td>...</td>\n",
       "      <td>0</td>\n",
       "      <td>0</td>\n",
       "      <td>0</td>\n",
       "      <td>0</td>\n",
       "      <td>0</td>\n",
       "      <td>0</td>\n",
       "      <td>0</td>\n",
       "      <td>1</td>\n",
       "      <td>0</td>\n",
       "      <td>0</td>\n",
       "    </tr>\n",
       "    <tr>\n",
       "      <th>5129</th>\n",
       "      <td>1.0</td>\n",
       "      <td>1.0</td>\n",
       "      <td>5.0</td>\n",
       "      <td>39.99</td>\n",
       "      <td>9.0</td>\n",
       "      <td>0</td>\n",
       "      <td>0</td>\n",
       "      <td>0</td>\n",
       "      <td>0</td>\n",
       "      <td>0</td>\n",
       "      <td>...</td>\n",
       "      <td>0</td>\n",
       "      <td>0</td>\n",
       "      <td>0</td>\n",
       "      <td>0</td>\n",
       "      <td>0</td>\n",
       "      <td>0</td>\n",
       "      <td>0</td>\n",
       "      <td>1</td>\n",
       "      <td>0</td>\n",
       "      <td>0</td>\n",
       "    </tr>\n",
       "    <tr>\n",
       "      <th>5050</th>\n",
       "      <td>2.0</td>\n",
       "      <td>2.0</td>\n",
       "      <td>5.0</td>\n",
       "      <td>6.95</td>\n",
       "      <td>5.0</td>\n",
       "      <td>0</td>\n",
       "      <td>0</td>\n",
       "      <td>0</td>\n",
       "      <td>0</td>\n",
       "      <td>0</td>\n",
       "      <td>...</td>\n",
       "      <td>0</td>\n",
       "      <td>0</td>\n",
       "      <td>0</td>\n",
       "      <td>0</td>\n",
       "      <td>0</td>\n",
       "      <td>0</td>\n",
       "      <td>0</td>\n",
       "      <td>1</td>\n",
       "      <td>0</td>\n",
       "      <td>0</td>\n",
       "    </tr>\n",
       "    <tr>\n",
       "      <th>8262</th>\n",
       "      <td>3.0</td>\n",
       "      <td>3.0</td>\n",
       "      <td>4.7</td>\n",
       "      <td>0.99</td>\n",
       "      <td>NaN</td>\n",
       "      <td>0</td>\n",
       "      <td>0</td>\n",
       "      <td>0</td>\n",
       "      <td>0</td>\n",
       "      <td>0</td>\n",
       "      <td>...</td>\n",
       "      <td>0</td>\n",
       "      <td>0</td>\n",
       "      <td>0</td>\n",
       "      <td>0</td>\n",
       "      <td>0</td>\n",
       "      <td>0</td>\n",
       "      <td>0</td>\n",
       "      <td>0</td>\n",
       "      <td>0</td>\n",
       "      <td>0</td>\n",
       "    </tr>\n",
       "    <tr>\n",
       "      <th>876</th>\n",
       "      <td>4.0</td>\n",
       "      <td>1.0</td>\n",
       "      <td>4.8</td>\n",
       "      <td>19.11</td>\n",
       "      <td>6.0</td>\n",
       "      <td>0</td>\n",
       "      <td>0</td>\n",
       "      <td>0</td>\n",
       "      <td>0</td>\n",
       "      <td>0</td>\n",
       "      <td>...</td>\n",
       "      <td>0</td>\n",
       "      <td>0</td>\n",
       "      <td>0</td>\n",
       "      <td>0</td>\n",
       "      <td>0</td>\n",
       "      <td>0</td>\n",
       "      <td>0</td>\n",
       "      <td>1</td>\n",
       "      <td>0</td>\n",
       "      <td>0</td>\n",
       "    </tr>\n",
       "  </tbody>\n",
       "</table>\n",
       "<p>8533 rows × 131 columns</p>\n",
       "</div>"
      ],
      "text/plain": [
       "      number_of_reviews  number_of_answered_questions  average_review_rating  \\\n",
       "4396                8.0                           2.0                    4.6   \n",
       "6858                3.0                           1.0                    5.0   \n",
       "6535                1.0                           1.0                    5.0   \n",
       "3323                1.0                           2.0                    5.0   \n",
       "91                  1.0                           1.0                    5.0   \n",
       "...                 ...                           ...                    ...   \n",
       "5993                1.0                           1.0                    5.0   \n",
       "5129                1.0                           1.0                    5.0   \n",
       "5050                2.0                           2.0                    5.0   \n",
       "8262                3.0                           3.0                    4.7   \n",
       "876                 4.0                           1.0                    4.8   \n",
       "\n",
       "       price  number_avaible  manufacturer_A.S.PUPPETS  manufacturer_AUTOart  \\\n",
       "4396    1.50             3.0                         0                     0   \n",
       "6858   22.00             NaN                         0                     0   \n",
       "6535    6.60             2.0                         0                     0   \n",
       "3323    2.95             NaN                         0                     0   \n",
       "91    137.16             NaN                         0                     0   \n",
       "...      ...             ...                       ...                   ...   \n",
       "5993   56.42             2.0                         0                     0   \n",
       "5129   39.99             9.0                         0                     0   \n",
       "5050    6.95             5.0                         0                     0   \n",
       "8262    0.99             NaN                         0                     0   \n",
       "876    19.11             6.0                         0                     0   \n",
       "\n",
       "      manufacturer_Amscan  manufacturer_Bachmann  manufacturer_Baker Ross  \\\n",
       "4396                    0                      0                        0   \n",
       "6858                    0                      0                        0   \n",
       "6535                    0                      0                        0   \n",
       "3323                    0                      0                        0   \n",
       "91                      0                      0                        0   \n",
       "...                   ...                    ...                      ...   \n",
       "5993                    0                      0                        0   \n",
       "5129                    0                      0                        0   \n",
       "5050                    0                      0                        0   \n",
       "8262                    0                      0                        0   \n",
       "876                     0                      0                        0   \n",
       "\n",
       "      ...  amazon_category_and_sub_category_Jigsaws & Puzzles > Jigsaws  \\\n",
       "4396  ...                                                  0              \n",
       "6858  ...                                                  0              \n",
       "6535  ...                                                  0              \n",
       "3323  ...                                                  0              \n",
       "91    ...                                                  0              \n",
       "...   ...                                                ...              \n",
       "5993  ...                                                  0              \n",
       "5129  ...                                                  0              \n",
       "5050  ...                                                  0              \n",
       "8262  ...                                                  0              \n",
       "876   ...                                                  0              \n",
       "\n",
       "      amazon_category_and_sub_category_Party Supplies > Banners, Stickers & Confetti > Banners  \\\n",
       "4396                                                  0                                          \n",
       "6858                                                  0                                          \n",
       "6535                                                  0                                          \n",
       "3323                                                  0                                          \n",
       "91                                                    0                                          \n",
       "...                                                 ...                                          \n",
       "5993                                                  0                                          \n",
       "5129                                                  0                                          \n",
       "5050                                                  0                                          \n",
       "8262                                                  0                                          \n",
       "876                                                   0                                          \n",
       "\n",
       "      amazon_category_and_sub_category_Party Supplies > Decorations > Balloons  \\\n",
       "4396                                                  0                          \n",
       "6858                                                  0                          \n",
       "6535                                                  0                          \n",
       "3323                                                  0                          \n",
       "91                                                    0                          \n",
       "...                                                 ...                          \n",
       "5993                                                  0                          \n",
       "5129                                                  0                          \n",
       "5050                                                  0                          \n",
       "8262                                                  0                          \n",
       "876                                                   0                          \n",
       "\n",
       "      amazon_category_and_sub_category_Puppets & Puppet Theatres > Hand Puppets  \\\n",
       "4396                                                  0                           \n",
       "6858                                                  0                           \n",
       "6535                                                  0                           \n",
       "3323                                                  0                           \n",
       "91                                                    0                           \n",
       "...                                                 ...                           \n",
       "5993                                                  0                           \n",
       "5129                                                  0                           \n",
       "5050                                                  0                           \n",
       "8262                                                  0                           \n",
       "876                                                   0                           \n",
       "\n",
       "      amazon_category_and_sub_category_Sports Toys & Outdoor > Kites & Flight Toys  \\\n",
       "4396                                                  0                              \n",
       "6858                                                  0                              \n",
       "6535                                                  0                              \n",
       "3323                                                  0                              \n",
       "91                                                    0                              \n",
       "...                                                 ...                              \n",
       "5993                                                  0                              \n",
       "5129                                                  0                              \n",
       "5050                                                  0                              \n",
       "8262                                                  0                              \n",
       "876                                                   0                              \n",
       "\n",
       "      amazon_category_and_sub_category_other  condition_collectible  \\\n",
       "4396                                       1                      0   \n",
       "6858                                       0                      0   \n",
       "6535                                       0                      0   \n",
       "3323                                       0                      0   \n",
       "91                                         0                      0   \n",
       "...                                      ...                    ...   \n",
       "5993                                       0                      0   \n",
       "5129                                       0                      0   \n",
       "5050                                       0                      0   \n",
       "8262                                       0                      0   \n",
       "876                                        0                      0   \n",
       "\n",
       "      condition_new  condition_refurbished  condition_used  \n",
       "4396              1                      0               0  \n",
       "6858              0                      0               0  \n",
       "6535              1                      0               0  \n",
       "3323              0                      0               0  \n",
       "91                0                      0               0  \n",
       "...             ...                    ...             ...  \n",
       "5993              1                      0               0  \n",
       "5129              1                      0               0  \n",
       "5050              1                      0               0  \n",
       "8262              0                      0               0  \n",
       "876               1                      0               0  \n",
       "\n",
       "[8533 rows x 131 columns]"
      ]
     },
     "execution_count": 59,
     "metadata": {},
     "output_type": "execute_result"
    }
   ],
   "source": [
    "col = [\"manufacturer\", \"amazon_category_and_sub_category\", \"condition\"]\n",
    "ohe = pd.get_dummies(df, columns = col)\n",
    "ohe"
   ]
  },
  {
   "cell_type": "markdown",
   "metadata": {},
   "source": [
    "Обратно разделим данные на тестовую и тренировочную часть(таргет внутри)"
   ]
  },
  {
   "cell_type": "code",
   "execution_count": 60,
   "metadata": {},
   "outputs": [],
   "source": [
    "X_train = ohe[:len(X_train)]\n",
    "X_test = ohe[len(X_train):]\n"
   ]
  },
  {
   "cell_type": "markdown",
   "metadata": {},
   "source": [
    "Выкинем все строки, где есть хотя бы один NaN"
   ]
  },
  {
   "cell_type": "code",
   "execution_count": 61,
   "metadata": {},
   "outputs": [],
   "source": [
    "X_train = X_train.drop(index=X_train[X_train.isna().sum(axis=1) > 0].index)"
   ]
  },
  {
   "cell_type": "code",
   "execution_count": 62,
   "metadata": {},
   "outputs": [],
   "source": [
    "X_test = X_test.drop(index=X_test[X_test.isna().sum(axis=1) > 0].index)"
   ]
  },
  {
   "cell_type": "markdown",
   "metadata": {},
   "source": [
    "выделяем таргет"
   ]
  },
  {
   "cell_type": "code",
   "execution_count": 63,
   "metadata": {},
   "outputs": [],
   "source": [
    "X_train, y_train = X_train.drop(columns=\"price\"), X_train.price\n",
    "X_test, y_test = X_test.drop(columns=\"price\"), X_test.price"
   ]
  },
  {
   "cell_type": "markdown",
   "metadata": {
    "id": "JTRoUwANEcn9"
   },
   "source": [
    "# Обучение модели"
   ]
  },
  {
   "cell_type": "markdown",
   "metadata": {
    "id": "AyVaKKT7FFo5"
   },
   "source": [
    "## Бейзлайн\n",
    "\n",
    "Обучите базовую модель. Для этого используем `sklearn.dummy.DummyRegressor`.  Посчитаем MSE, RMSE."
   ]
  },
  {
   "cell_type": "code",
   "execution_count": 64,
   "metadata": {
    "id": "-JplspUcve0J"
   },
   "outputs": [],
   "source": [
    "from sklearn.dummy import DummyRegressor\n",
    "\n",
    "dummy = DummyRegressor()\n",
    "dummy.fit(X_train, y_train)\n",
    "y_pred = dummy.predict(X_test)"
   ]
  },
  {
   "cell_type": "code",
   "execution_count": 65,
   "metadata": {
    "id": "zuFLTDnKF1qQ"
   },
   "outputs": [
    {
     "name": "stdout",
     "output_type": "stream",
     "text": [
      "MSE:  1544.5857509239759\n",
      "RMSE:  39.30121818625952\n"
     ]
    }
   ],
   "source": [
    "# Проверьте качество бейзлайна\n",
    "from sklearn.metrics import mean_squared_error as mse\n",
    "\n",
    "print(\"MSE: \", mse(y_test, y_pred))\n",
    "print(\"RMSE: \", mse(y_test, y_pred, squared=False))"
   ]
  },
  {
   "cell_type": "markdown",
   "metadata": {
    "id": "rVW-MtPgF_vE"
   },
   "source": [
    "## Дерево решений\n"
   ]
  },
  {
   "cell_type": "code",
   "execution_count": 66,
   "metadata": {
    "id": "Xrqo604AQvBj"
   },
   "outputs": [],
   "source": [
    "from sklearn.tree import DecisionTreeRegressor\n",
    "from sklearn.metrics import r2_score, mean_squared_error as mse\n",
    "from sklearn.metrics import r2_score"
   ]
  },
  {
   "cell_type": "code",
   "execution_count": 67,
   "metadata": {
    "id": "CUISp3CtGrRB"
   },
   "outputs": [],
   "source": [
    "tree = DecisionTreeRegressor(max_depth=10)\n",
    "tree.fit(X_train, y_train)\n",
    "y_pred = tree.predict(X_test)"
   ]
  },
  {
   "cell_type": "code",
   "execution_count": 68,
   "metadata": {},
   "outputs": [
    {
     "name": "stdout",
     "output_type": "stream",
     "text": [
      "MSE:  1447.0050780214622\n",
      "RMSE:  38.039519949934466\n",
      "r2_score: 0.06187802046028579\n"
     ]
    }
   ],
   "source": [
    "print(\"MSE: \", mse(y_test, y_pred))\n",
    "print(\"RMSE: \", mse(y_test, y_pred, squared=False))\n",
    "print(\"r2_score:\", r2_score(y_test, y_pred))"
   ]
  },
  {
   "cell_type": "markdown",
   "metadata": {},
   "source": [
    "Качество улучшилось. Так как в двух категориальных колонках датафрейма было много уникальных элементов, то для OneHot кодирования большинство элементов я выделил в тип other, немного пришлось поподбирать границу занесения элементов в тип other, потому что при слишком высокой границе ошибка на дереве увеличивалась и становилась больше, чем dummy"
   ]
  },
  {
   "cell_type": "markdown",
   "metadata": {
    "id": "viVY_kUMG7Jv"
   },
   "source": [
    "## Линейная регрессия\n"
   ]
  },
  {
   "cell_type": "code",
   "execution_count": 69,
   "metadata": {
    "id": "oFRYt0erQ05U"
   },
   "outputs": [],
   "source": [
    "from sklearn.linear_model import LinearRegression"
   ]
  },
  {
   "cell_type": "code",
   "execution_count": 70,
   "metadata": {
    "id": "ZpPICj2tQsDS"
   },
   "outputs": [],
   "source": [
    "lin_reg = LinearRegression()\n",
    "lin_reg.fit(X_train, y_train)\n",
    "y_pred = lin_reg.predict(X_test)"
   ]
  },
  {
   "cell_type": "code",
   "execution_count": 71,
   "metadata": {},
   "outputs": [
    {
     "name": "stdout",
     "output_type": "stream",
     "text": [
      "MSE:  1373.6145103013955\n",
      "RMSE:  37.06230578770559\n",
      "r2_score: 0.10945857543887105\n"
     ]
    }
   ],
   "source": [
    "print(\"MSE: \", mse(y_test, y_pred))\n",
    "print(\"RMSE: \", mse(y_test, y_pred, squared=False))\n",
    "print(\"r2_score:\", r2_score(y_test, y_pred))"
   ]
  },
  {
   "cell_type": "markdown",
   "metadata": {},
   "source": [
    "В линейной регрессии качество улучшилось. При кодировании всех уникальных элементов в категорильных признаках качество модели ухудшалось очень сильно, MSE было 1.14е+20."
   ]
  },
  {
   "cell_type": "markdown",
   "metadata": {
    "id": "3J71riX2Guj3"
   },
   "source": [
    "# Гиперпараметры "
   ]
  },
  {
   "cell_type": "code",
   "execution_count": 72,
   "metadata": {
    "id": "mLTTpG19Wr2l"
   },
   "outputs": [],
   "source": [
    "import seaborn as sns\n",
    "\n",
    "\n",
    "def plot_fitting_curve(parameter: str, values: list, X_train, X_test, y_train, y_test):\n",
    "    train_curve = []\n",
    "    test_curve = []\n",
    "    for value in values:\n",
    "        model = DecisionTreeRegressor(**{parameter: value})\n",
    "        model.fit(X_train, y_train)\n",
    "        y_pred_train, y_pred_test = model.predict(X_train), model.predict(X_test)\n",
    "        train_curve.append(mse(y_train, y_pred_train))\n",
    "        test_curve.append(mse(y_test, y_pred_test))\n",
    "    sns.lineplot(x=values, y=train_curve, label='train')\n",
    "    sns.lineplot(x=values, y=test_curve, label='test').set_title(f'{parameter}')"
   ]
  },
  {
   "cell_type": "code",
   "execution_count": 73,
   "metadata": {
    "id": "5CQySD968W0J"
   },
   "outputs": [
    {
     "data": {
      "image/png": "[encoded data removed]",
      "text/plain": [
       "<Figure size 640x480 with 1 Axes>"
      ]
     },
     "metadata": {},
     "output_type": "display_data"
    }
   ],
   "source": [
    "plot_fitting_curve('max_depth', np.arange(1, 20), X_train, X_test, y_train, y_test)"
   ]
  },
  {
   "cell_type": "code",
   "execution_count": 74,
   "metadata": {},
   "outputs": [
    {
     "data": {
      "image/png": "[encoded data removed]",
      "text/plain": [
       "<Figure size 640x480 with 1 Axes>"
      ]
     },
     "metadata": {},
     "output_type": "display_data"
    }
   ],
   "source": [
    "plot_fitting_curve('min_samples_split', np.arange(2, 52, 5), X_train, X_test, y_train, y_test)"
   ]
  },
  {
   "cell_type": "code",
   "execution_count": 75,
   "metadata": {},
   "outputs": [
    {
     "data": {
      "image/png": "[encoded data removed]",
      "text/plain": [
       "<Figure size 640x480 with 1 Axes>"
      ]
     },
     "metadata": {},
     "output_type": "display_data"
    }
   ],
   "source": [
    "plot_fitting_curve('min_samples_leaf', np.arange(2, 52, 5), X_train, X_test, y_train, y_test)"
   ]
  },
  {
   "cell_type": "markdown",
   "metadata": {
    "id": "rJlf6gJ9RBhf"
   },
   "source": [
    "# Простое ансамблирование\n",
    "\n",
    "В этой секции мы реализуем простой ансамбль деревьев."
   ]
  },
  {
   "cell_type": "code",
   "execution_count": 76,
   "metadata": {
    "id": "Ht7wq9TqUfvZ"
   },
   "outputs": [],
   "source": [
    "class EnsembleTreeRegressor:\n",
    "    def __init__(self, num_trees, samples_frac, **model_kwargs):\n",
    "        self._samples_frac = samples_frac\n",
    "        self._trees = [DecisionTreeRegressor(**model_kwargs) for _ in range(num_trees)]\n",
    "\n",
    "    def fit(self, x: pd.DataFrame, y: pd.Series):\n",
    "        for tree in self._trees:\n",
    "            tree_x = x.sample(frac=self._samples_frac, random_state=42)\n",
    "            tree_y = y[tree_x.index]\n",
    "            tree.fit(tree_x, tree_y)\n",
    "\n",
    "    def predict(self, x: pd.DataFrame):\n",
    "        # В качестве предсказания ансамбля будем выдавать усреднение предсказаний деревьев\n",
    "        mas = []\n",
    "        for tree in self._trees:\n",
    "            mas.append(tree.predict(x))\n",
    "        return sum(mas) / len(mas)"
   ]
  },
  {
   "cell_type": "code",
   "execution_count": 77,
   "metadata": {
    "id": "WJrBtD3rXOTH"
   },
   "outputs": [],
   "source": [
    "tree = EnsembleTreeRegressor(num_trees=5, samples_frac=0.8)\n",
    "tree.fit(X_train, y_train)\n",
    "y_pred = tree.predict(X_test)"
   ]
  },
  {
   "cell_type": "code",
   "execution_count": 78,
   "metadata": {},
   "outputs": [
    {
     "name": "stdout",
     "output_type": "stream",
     "text": [
      "MSE:  1848.2559549125026\n",
      "RMSE:  42.99134744239244\n",
      "r2_score: -0.19826085025865026\n"
     ]
    }
   ],
   "source": [
    "print(\"MSE: \", mse(y_test, y_pred))\n",
    "print(\"RMSE: \", mse(y_test, y_pred, squared=False))\n",
    "print(\"r2_score:\", r2_score(y_test, y_pred))"
   ]
  },
  {
   "cell_type": "markdown",
   "metadata": {},
   "source": [
    "Ансамбли показали лучше хуже, чем у деревьев, возможно необходимо подобрать гиперпараметры"
   ]
  },
  {
   "cell_type": "code",
   "execution_count": 110,
   "metadata": {},
   "outputs": [],
   "source": [
    "def ansambli_plot_fitting_curve(parameter: str, values: list, X_train, X_test, y_train, y_test, num, frac):\n",
    "    train_curve = []\n",
    "    test_curve = []\n",
    "    for value in values:\n",
    "        model = EnsembleTreeRegressor(num_trees=num, samples_frac=frac, **{parameter: value})\n",
    "        model.fit(X_train, y_train)\n",
    "        y_pred_train, y_pred_test = model.predict(X_train), model.predict(X_test)\n",
    "        train_curve.append(mse(y_train, y_pred_train))\n",
    "        test_curve.append(mse(y_test, y_pred_test))\n",
    "    sns.lineplot(x=values, y=train_curve, label='train')\n",
    "    sns.lineplot(x=values, y=test_curve, label='test').set_title(f'{parameter}' +\", num_trees=\" f'{num}' + \", sample_frac=\" + f'{frac}')"
   ]
  },
  {
   "cell_type": "code",
   "execution_count": 118,
   "metadata": {},
   "outputs": [
    {
     "data": {
      "image/png": "[encoded data removed]",
      "text/plain": [
       "<Figure size 640x480 with 1 Axes>"
      ]
     },
     "metadata": {},
     "output_type": "display_data"
    }
   ],
   "source": [
    "ansambli_plot_fitting_curve('max_depth', np.arange(1, 20), X_train, X_test, y_train, y_test, 10, 0.3)"
   ]
  },
  {
   "cell_type": "code",
   "execution_count": 119,
   "metadata": {},
   "outputs": [
    {
     "data": {
      "image/png": "[encoded data removed]",
      "text/plain": [
       "<Figure size 640x480 with 1 Axes>"
      ]
     },
     "metadata": {},
     "output_type": "display_data"
    }
   ],
   "source": [
    "ansambli_plot_fitting_curve('max_depth', np.arange(1, 20), X_train, X_test, y_train, y_test, 10, 0.8)"
   ]
  },
  {
   "cell_type": "code",
   "execution_count": 120,
   "metadata": {},
   "outputs": [
    {
     "data": {
      "image/png": "[encoded data removed]",
      "text/plain": [
       "<Figure size 640x480 with 1 Axes>"
      ]
     },
     "metadata": {},
     "output_type": "display_data"
    }
   ],
   "source": [
    "ansambli_plot_fitting_curve('max_depth', np.arange(1, 20), X_train, X_test, y_train, y_test, 20, 0.3)"
   ]
  },
  {
   "cell_type": "code",
   "execution_count": 121,
   "metadata": {},
   "outputs": [
    {
     "data": {
      "image/png": "[encoded data removed]",
      "text/plain": [
       "<Figure size 640x480 with 1 Axes>"
      ]
     },
     "metadata": {},
     "output_type": "display_data"
    }
   ],
   "source": [
    "ansambli_plot_fitting_curve('max_depth', np.arange(1, 20), X_train, X_test, y_train, y_test, 20, 0.8)"
   ]
  },
  {
   "cell_type": "markdown",
   "metadata": {},
   "source": [
    "Кол-во деревьев не особо влияет на max_depth, а вот при увеличении sample_frac увеличивается и глубина дерева"
   ]
  },
  {
   "cell_type": "code",
   "execution_count": null,
   "metadata": {},
   "outputs": [],
   "source": []
  }
 ],
 "metadata": {
  "colab": {
   "provenance": []
  },
  "gpuClass": "standard",
  "kernelspec": {
   "display_name": "Python 3 (ipykernel)",
   "language": "python",
   "name": "python3"
  },
  "language_info": {
   "codemirror_mode": {
    "name": "ipython",
    "version": 3
   },
   "file_extension": ".py",
   "mimetype": "text/x-python",
   "name": "python",
   "nbconvert_exporter": "python",
   "pygments_lexer": "ipython3",
   "version": "3.10.7"
  }
 },
 "nbformat": 4,
 "nbformat_minor": 1
}
